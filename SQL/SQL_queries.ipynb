{
 "cells": [
  {
   "cell_type": "markdown",
   "id": "dfa81d42",
   "metadata": {},
   "source": [
    "# Query 1\n",
    "Top 5 most popular pieces of content consumed this week"
   ]
  },
  {
   "cell_type": "markdown",
   "id": "fe9c97e8",
   "metadata": {},
   "source": [
    "Strategy: \n",
    "\n",
    "\n",
    "- The metric to measure the popularity of a piece of content is `Ads_User_id`\n",
    "\n",
    "\n",
    "- Return the top 5 `Content_id` with the most `Ads_User_id` in table `Page_Impression`"
   ]
  },
  {
   "cell_type": "markdown",
   "id": "9f90dc67",
   "metadata": {},
   "source": [
    "Assumption:\n",
    "- There are no missing data"
   ]
  },
  {
   "cell_type": "markdown",
   "id": "b088f50b",
   "metadata": {},
   "source": [
    "```sql\n",
    "SELECT Content_id, COUNT(Ads_User_id) AS Popularity\n",
    "FROM Page_Impression\n",
    "WHERE Timestamp >= {00:00:00 this Monday}\n",
    "GROUP BY Content_id\n",
    "ORDER BY Popularity DESC\n",
    "LIMIT 5;\n",
    "```"
   ]
  },
  {
   "cell_type": "markdown",
   "id": "f97e8d48",
   "metadata": {},
   "source": [
    "# Query 2\n",
    "Number of weekly active users for the latest full week (Monday – Sunday). WAU is calculated by counting registered users with > 60 seconds dwell time between Monday-Sunday."
   ]
  },
  {
   "cell_type": "markdown",
   "id": "8c548d51",
   "metadata": {},
   "source": [
    "Strategy:\n",
    "\n",
    "\n",
    "- Connect the `User_id` with `Dwell_Time` through `OAuth_id`, sum up the total `Dwell_Time` over the latest full week\n",
    "\n",
    "\n",
    "- Filter those `User_id` with more than 60 seconds total `Dwell_Time`. \n",
    "\n",
    "\n",
    "- The relationship *between* table `Registered_Users` and table `OAuth_id_Service` is __one to one__, which means each entity in the table `Registered_Users` *exclusively* corresponds to only one entity in the table `OAuth_id_Service`. \n",
    "\n",
    "\n",
    "- Also, *from* table `Ad_Service_Interaction_Data` *to* table `OAuth_id_Service`, the relationship is __one__, which means any entity in table `Ad_Service_Interaction_Data` can find *only one* entity in table `OAuth_id_Service`. \n",
    "\n",
    "\n",
    "- This means __1__ `User_id` corresponds to __1__ `OAuth_id`, and __1__ `OAuth_id` corresponds to __1__ `Ads_User_id`. This also means any `User_id` or `OAuth_id` or `Ads_User_id` can identify a unique user. \n",
    "\n",
    "\n",
    "-  That means we can count `Ads_User_id` that associate to more than 60 sec of total `Dwell_Time`. There's no need to pull in table `Registered_Users` or table `OAuth_id_Service`, which can speed up the process and save the memory usage."
   ]
  },
  {
   "cell_type": "markdown",
   "id": "8cc1d10f",
   "metadata": {},
   "source": [
    "Assumptions:\n",
    "\n",
    "- There are no missing data.\n",
    "\n",
    "\n",
    "- `User_id` is the primary key (PK) of table `Registered_Users`, so `User_id` is unique. \n",
    "\n",
    "\n",
    "- `OAuth_id` is the PK of table `OAuth_id_Service`. \n",
    "\n",
    "\n",
    "- `Dwell_Time` is in the unit of second\n"
   ]
  },
  {
   "cell_type": "markdown",
   "id": "f4e957ce",
   "metadata": {},
   "source": [
    "---\n",
    "## *Question for Mike*:\n",
    "\n",
    "- The middle 3 tables `Page_Impression`, `Ad_Service_Interaction_Data` and `OAuth_id_Service` have the same key `Ads_User_id`. (Right to middle) From `OAuth_id_Service` to `Ad_Service_Interaction_Data`, the relationship is one to zero or many. (Left to middle) From `Page_Impression` to `Ad_Service_Interaction_Data`, the relationship is many to one. How can this be possible?\n",
    "\n",
    "\n",
    " - Is it because table `Page_Impression` uses a composite primary key (`Ads_User_id`, `Timestamp`), but table `Ad_Service_Interaction_Data` uses a single primary key `Ads_User_id` ?\n",
    "\n",
    "---"
   ]
  },
  {
   "cell_type": "markdown",
   "id": "0af6c391",
   "metadata": {},
   "source": [
    "```sql\n",
    "SELECT COUNT(*) AS Num_WAU\n",
    "FROM\n",
    "(\n",
    "    SELECT Ads_User_id\n",
    "    FROM Ad_Service_Interaction_Data \n",
    "    WHERE Timestamp >= {00:00:00 latest Monday} AND Timestamp <= {23:59:59 latest Sunday}\n",
    "    GROUP BY Ads_User_id\n",
    "    HAVING COUNT(Dwell_Time) > 60\n",
    ")\n",
    "```"
   ]
  },
  {
   "cell_type": "markdown",
   "id": "9cbdfb4c",
   "metadata": {},
   "source": [
    "# Query 3\n",
    "Top 5 pieces of content from each content type consumed this week by only active users (using the above definition)"
   ]
  },
  {
   "cell_type": "markdown",
   "id": "e4285d72",
   "metadata": {},
   "source": [
    "Strategy: \n",
    "\n",
    "\n",
    "- The metric to measure the popularity of a piece of content is `Ads_User_id`\n",
    "\n",
    "\n",
    "- Need to filter out those `Ads_User_id` that belong to only the active users *this week*, then find the top 5 pieces for each content type"
   ]
  },
  {
   "cell_type": "markdown",
   "id": "c3608df5",
   "metadata": {},
   "source": [
    "Assumptions:\n",
    "\n",
    "\n",
    "- ..."
   ]
  },
  {
   "cell_type": "markdown",
   "id": "cb7b0fb4",
   "metadata": {},
   "source": [
    "```sql\n",
    "WITH Active_Users AS\n",
    "(\n",
    "    SELECT Ads_User_id\n",
    "    FROM Ad_Service_Interaction_Data \n",
    "    WHERE Timestamp >= {00:00:00 latest Monday} AND Timestamp <= {23:59:59 latest Sunday}\n",
    "    GROUP BY Ads_User_id\n",
    "    HAVING COUNT(Dwell_Time) > 60\n",
    "),\n",
    "    Popular_Content AS\n",
    "(\n",
    "    SELECT Content_id, COUNT(Ads_User_id) AS Popularity\n",
    "    FROM Page_Impression\n",
    "    WHERE (Timestamp >= {00:00:00 this Monday}) AND (Ads_User_id IN Active_Users)\n",
    "    GROUP BY Content_id\n",
    "    ORDER BY Popularity DESC\n",
    ")\n",
    "\n",
    "SELECT *\n",
    "FROM\n",
    "(\n",
    "    SELECT Content_Type, \n",
    "           Content_id, \n",
    "           Popularity, \n",
    "           Rank() over (Partition BY Content_Type\n",
    "                        ORDER BY Popularity DESC) AS Rank\n",
    "    FROM Content_Metadata JOIN Popular_Content USING (Content_id)\n",
    ")\n",
    "WHERE Rank <= 5;\n",
    "\n",
    "```"
   ]
  },
  {
   "cell_type": "markdown",
   "id": "d051d09b",
   "metadata": {},
   "source": []
  },
  {
   "cell_type": "markdown",
   "id": "ec7ace77",
   "metadata": {},
   "source": []
  },
  {
   "cell_type": "markdown",
   "id": "1611e185",
   "metadata": {},
   "source": []
  },
  {
   "cell_type": "markdown",
   "id": "099a8944",
   "metadata": {},
   "source": []
  }
 ],
 "metadata": {
  "kernelspec": {
   "display_name": "Python 3",
   "language": "python",
   "name": "python3"
  },
  "language_info": {
   "codemirror_mode": {
    "name": "ipython",
    "version": 3
   },
   "file_extension": ".py",
   "mimetype": "text/x-python",
   "name": "python",
   "nbconvert_exporter": "python",
   "pygments_lexer": "ipython3",
   "version": "3.8.8"
  }
 },
 "nbformat": 4,
 "nbformat_minor": 5
}
