{
 "cells": [
  {
   "cell_type": "code",
   "execution_count": 1,
   "metadata": {
    "colab": {
     "base_uri": "https://localhost:8080/"
    },
    "executionInfo": {
     "elapsed": 191,
     "status": "ok",
     "timestamp": 1636136237491,
     "user": {
      "displayName": "Josh Jiayang Hu",
      "photoUrl": "https://lh3.googleusercontent.com/a-/AOh14Ghd2PGxhU80wKHJ-xmsZpi1lO89h65lKI9rQggTig=s64",
      "userId": "07935646948219834727"
     },
     "user_tz": 240
    },
    "id": "l6QhlU-HSfLr",
    "outputId": "17cc8bb6-1ae8-4997-b8d3-184ac69b5788"
   },
   "outputs": [
    {
     "name": "stdout",
     "output_type": "stream",
     "text": [
      "Drive already mounted at /content/drive; to attempt to forcibly remount, call drive.mount(\"/content/drive\", force_remount=True).\n"
     ]
    }
   ],
   "source": [
    "from google.colab import drive\n",
    "drive.mount('/content/drive')"
   ]
  },
  {
   "cell_type": "code",
   "execution_count": 2,
   "metadata": {
    "executionInfo": {
     "elapsed": 1019,
     "status": "ok",
     "timestamp": 1636136238701,
     "user": {
      "displayName": "Josh Jiayang Hu",
      "photoUrl": "https://lh3.googleusercontent.com/a-/AOh14Ghd2PGxhU80wKHJ-xmsZpi1lO89h65lKI9rQggTig=s64",
      "userId": "07935646948219834727"
     },
     "user_tz": 240
    },
    "id": "Ps93Oct9k7PJ"
   },
   "outputs": [],
   "source": [
    "import pandas as pd\n",
    "import numpy as np\n",
    "import re\n",
    "import dill\n",
    "from scipy import sparse\n",
    "import matplotlib.pyplot as plt\n",
    "import seaborn as sns"
   ]
  },
  {
   "cell_type": "markdown",
   "metadata": {
    "id": "8B45sz8sts34"
   },
   "source": [
    "Make sure sklearn is the latest version. An experimental function is used below."
   ]
  },
  {
   "cell_type": "code",
   "execution_count": null,
   "metadata": {
    "id": "o3PwRdcEaxWN"
   },
   "outputs": [],
   "source": [
    "!pip uninstall scikit-learn -y\n",
    "\n",
    "!pip install -U scikit-learn"
   ]
  },
  {
   "cell_type": "code",
   "execution_count": 3,
   "metadata": {
    "colab": {
     "base_uri": "https://localhost:8080/",
     "height": 35
    },
    "executionInfo": {
     "elapsed": 15,
     "status": "ok",
     "timestamp": 1636136238709,
     "user": {
      "displayName": "Josh Jiayang Hu",
      "photoUrl": "https://lh3.googleusercontent.com/a-/AOh14Ghd2PGxhU80wKHJ-xmsZpi1lO89h65lKI9rQggTig=s64",
      "userId": "07935646948219834727"
     },
     "user_tz": 240
    },
    "id": "zW4dKrT8Zz0z",
    "outputId": "5afdea52-153c-4a6b-ff6b-4e2421ab48ef"
   },
   "outputs": [
    {
     "data": {
      "application/vnd.google.colaboratory.intrinsic+json": {
       "type": "string"
      },
      "text/plain": [
       "'1.0.1'"
      ]
     },
     "execution_count": 3,
     "metadata": {},
     "output_type": "execute_result"
    }
   ],
   "source": [
    "import sklearn\n",
    "sklearn.__version__"
   ]
  },
  {
   "cell_type": "code",
   "execution_count": 4,
   "metadata": {
    "executionInfo": {
     "elapsed": 140,
     "status": "ok",
     "timestamp": 1636136242744,
     "user": {
      "displayName": "Josh Jiayang Hu",
      "photoUrl": "https://lh3.googleusercontent.com/a-/AOh14Ghd2PGxhU80wKHJ-xmsZpi1lO89h65lKI9rQggTig=s64",
      "userId": "07935646948219834727"
     },
     "user_tz": 240
    },
    "id": "9sSfAYhaqnrc"
   },
   "outputs": [],
   "source": [
    "from sklearn.base import BaseEstimator, RegressorMixin, TransformerMixin\n",
    "from sklearn.compose import ColumnTransformer\n",
    "from sklearn.ensemble import RandomForestRegressor, RandomForestClassifier\n",
    "from sklearn.experimental import enable_halving_search_cv\n",
    "from sklearn.linear_model import Ridge, Lasso, LogisticRegression\n",
    "from sklearn.model_selection import train_test_split, GridSearchCV, HalvingGridSearchCV\n",
    "from sklearn.neural_network import MLPRegressor\n",
    "from sklearn.pipeline import Pipeline\n",
    "from sklearn.preprocessing import OneHotEncoder, MinMaxScaler\n",
    "from sklearn.utils import shuffle\n",
    "from sklearn.utils.validation import check_X_y, check_array, check_is_fitted"
   ]
  },
  {
   "cell_type": "code",
   "execution_count": 5,
   "metadata": {
    "executionInfo": {
     "elapsed": 154,
     "status": "ok",
     "timestamp": 1636136246435,
     "user": {
      "displayName": "Josh Jiayang Hu",
      "photoUrl": "https://lh3.googleusercontent.com/a-/AOh14Ghd2PGxhU80wKHJ-xmsZpi1lO89h65lKI9rQggTig=s64",
      "userId": "07935646948219834727"
     },
     "user_tz": 240
    },
    "id": "rcYBh33M78__"
   },
   "outputs": [],
   "source": [
    "folder = '/content/drive/MyDrive/Colab_Notebooks/dpi_datascience_practical/ML/'"
   ]
  },
  {
   "cell_type": "markdown",
   "metadata": {
    "id": "yP9TTsRIMToX"
   },
   "source": [
    "## Table of Contents\n",
    "\n",
    "- [1 - Data Processing 1: Original Data](#1)\n",
    "    - [1.0 Original Data Visualization: n_feature * 4 columns](#1-0)\n",
    "    - [1.1 Estimating Model 1.1: Linear Regression (L2 penalty)](#1-1)\n",
    "    - [1.2 Estimating Model 1.2: Linear Regression (L1 penalty)](#1-2)\n",
    "    - [1.3 Estimating Model 1.3: Logistic Regression](#1-3)\n",
    "    - [1.4 Estimating Model 1.4: Random Forest Classifier](#1-4)\n",
    "- [2 - Data Processing 2](#2)\n",
    "    - [2.0 Data Imbalance and Analysis](#2-0)\n",
    "    - [2.1 Estimating Model 2.1: Logistic Regression](#2-1)\n",
    "        - [2.1.1 Turn Off `state`](#2-1-1)\n",
    "        - [2.1.2 Turn Off `age`](#2-1-2)\n",
    "        - [2.1.3 Turn Off `state` and `age`](#2-1-3)\n",
    "    - [2.2 Estimating Model 2.2: random forest classifier](#2-2)\n",
    "        - [2.2.1 Turn Off `state`](#2-2-1)\n",
    "        - [2.2.2 Turn Off `age`](#2-2-2)\n",
    "        - [2.2.3 Turn Off `state` and `age`](#2-2-3)\n",
    "- [3 - Model Analysis](#3)\n",
    "    - [3.0 Model Choosing](#3-0)\n",
    "    - [3.1 Feature Analysis](#3-1)\n",
    "- [4 - Conclusion](#4[link text](https://))"
   ]
  },
  {
   "cell_type": "markdown",
   "metadata": {
    "id": "LJJALt6KuGL3"
   },
   "source": [
    "Load data."
   ]
  },
  {
   "cell_type": "code",
   "execution_count": 79,
   "metadata": {
    "executionInfo": {
     "elapsed": 758,
     "status": "ok",
     "timestamp": 1636059599890,
     "user": {
      "displayName": "Josh Jiayang Hu",
      "photoUrl": "https://lh3.googleusercontent.com/a-/AOh14Ghd2PGxhU80wKHJ-xmsZpi1lO89h65lKI9rQggTig=s64",
      "userId": "07935646948219834727"
     },
     "user_tz": 240
    },
    "id": "AupxjfCYqnoC"
   },
   "outputs": [],
   "source": [
    "df = pd.read_csv(folder+'ds_practical.txt',sep='|')"
   ]
  },
  {
   "cell_type": "markdown",
   "metadata": {
    "id": "imGZZoW-tSEk"
   },
   "source": [
    "Each `anon_person_id` from 1 to 500 appears twice. **Assume** they are redundant and remove them."
   ]
  },
  {
   "cell_type": "code",
   "execution_count": 80,
   "metadata": {
    "executionInfo": {
     "elapsed": 4,
     "status": "ok",
     "timestamp": 1636059601103,
     "user": {
      "displayName": "Josh Jiayang Hu",
      "photoUrl": "https://lh3.googleusercontent.com/a-/AOh14Ghd2PGxhU80wKHJ-xmsZpi1lO89h65lKI9rQggTig=s64",
      "userId": "07935646948219834727"
     },
     "user_tz": 240
    },
    "id": "eozVI1U3VGaM"
   },
   "outputs": [],
   "source": [
    "df = df.iloc[:999500]"
   ]
  },
  {
   "cell_type": "markdown",
   "metadata": {
    "id": "9rgg69oXpCk8"
   },
   "source": [
    "<a name='1'></a>\n",
    "## 1.   Data Processing 1: Original Data\n",
    "\n",
    "\n",
    "- Use the original full data, only remove some null data in `age` column, replace 'feMalee' in the gender column is 'Female', and fill the null data in `state` column with 'CA' (due to the overwhelming majority (~99%) case of 'CA')\n",
    "\n",
    "\n",
    "- one-hot encode categorical features, scalize numerical features"
   ]
  },
  {
   "cell_type": "code",
   "execution_count": 81,
   "metadata": {
    "executionInfo": {
     "elapsed": 208,
     "status": "ok",
     "timestamp": 1636059604521,
     "user": {
      "displayName": "Josh Jiayang Hu",
      "photoUrl": "https://lh3.googleusercontent.com/a-/AOh14Ghd2PGxhU80wKHJ-xmsZpi1lO89h65lKI9rQggTig=s64",
      "userId": "07935646948219834727"
     },
     "user_tz": 240
    },
    "id": "WFA4G1kPv4LM"
   },
   "outputs": [],
   "source": [
    "df.dropna(subset=['age'], inplace=True)"
   ]
  },
  {
   "cell_type": "markdown",
   "metadata": {
    "id": "Ovk5qOoxBOvc"
   },
   "source": [
    "Almost all (98.7%) the users here come from CA"
   ]
  },
  {
   "cell_type": "code",
   "execution_count": 82,
   "metadata": {
    "colab": {
     "base_uri": "https://localhost:8080/"
    },
    "executionInfo": {
     "elapsed": 163,
     "status": "ok",
     "timestamp": 1636059607041,
     "user": {
      "displayName": "Josh Jiayang Hu",
      "photoUrl": "https://lh3.googleusercontent.com/a-/AOh14Ghd2PGxhU80wKHJ-xmsZpi1lO89h65lKI9rQggTig=s64",
      "userId": "07935646948219834727"
     },
     "user_tz": 240
    },
    "id": "t5W5G6lrvSAb",
    "outputId": "845da914-2484-43eb-9c1f-c743fef82d46"
   },
   "outputs": [
    {
     "data": {
      "text/plain": [
       "CA    0.986993\n",
       "GA    0.010932\n",
       "DC    0.002075\n",
       "Name: state, dtype: float64"
      ]
     },
     "execution_count": 82,
     "metadata": {},
     "output_type": "execute_result"
    }
   ],
   "source": [
    "df.state.value_counts(normalize=True)"
   ]
  },
  {
   "cell_type": "code",
   "execution_count": 83,
   "metadata": {
    "executionInfo": {
     "elapsed": 169,
     "status": "ok",
     "timestamp": 1636059610236,
     "user": {
      "displayName": "Josh Jiayang Hu",
      "photoUrl": "https://lh3.googleusercontent.com/a-/AOh14Ghd2PGxhU80wKHJ-xmsZpi1lO89h65lKI9rQggTig=s64",
      "userId": "07935646948219834727"
     },
     "user_tz": 240
    },
    "id": "DU4eCnxLSQ1o"
   },
   "outputs": [],
   "source": [
    "df.fillna(value={'state': 'CA'}, inplace=True)"
   ]
  },
  {
   "cell_type": "markdown",
   "metadata": {
    "id": "p_d9p34E-chw"
   },
   "source": [
    "**Assume** 'feMalee' in the `gender` column is 'Female', because the document says the values for this column is either Male or Female"
   ]
  },
  {
   "cell_type": "code",
   "execution_count": 84,
   "metadata": {
    "colab": {
     "base_uri": "https://localhost:8080/"
    },
    "executionInfo": {
     "elapsed": 837,
     "status": "ok",
     "timestamp": 1636059613128,
     "user": {
      "displayName": "Josh Jiayang Hu",
      "photoUrl": "https://lh3.googleusercontent.com/a-/AOh14Ghd2PGxhU80wKHJ-xmsZpi1lO89h65lKI9rQggTig=s64",
      "userId": "07935646948219834727"
     },
     "user_tz": 240
    },
    "id": "X3ee1Xq1vt8l",
    "outputId": "3495e024-a4ce-4780-9c48-73102349aa1b"
   },
   "outputs": [
    {
     "data": {
      "text/plain": [
       "array(['Female', 'Male', 'feMalee'], dtype=object)"
      ]
     },
     "execution_count": 84,
     "metadata": {},
     "output_type": "execute_result"
    }
   ],
   "source": [
    "df.gender.unique()"
   ]
  },
  {
   "cell_type": "code",
   "execution_count": 85,
   "metadata": {
    "executionInfo": {
     "elapsed": 164,
     "status": "ok",
     "timestamp": 1636059615431,
     "user": {
      "displayName": "Josh Jiayang Hu",
      "photoUrl": "https://lh3.googleusercontent.com/a-/AOh14Ghd2PGxhU80wKHJ-xmsZpi1lO89h65lKI9rQggTig=s64",
      "userId": "07935646948219834727"
     },
     "user_tz": 240
    },
    "id": "4v9TTJZS-cQ6"
   },
   "outputs": [],
   "source": [
    "df.gender.replace({'feMalee': 'Female'}, inplace=True)"
   ]
  },
  {
   "cell_type": "markdown",
   "metadata": {
    "id": "-UUs8v7KvRiT"
   },
   "source": [
    "<a name='1-0'></a>\n",
    "### 1.0.  Original Data Visualization: n_feature * 4 columns\n",
    "\n",
    "\n",
    "The 4 columns are:\n",
    "\n",
    "\n",
    "1.   In each feature, the distribution of positive case (target=1) and negative case (target=0) at different values\n",
    "\n",
    "1.   In each feature, the distribution of values corresponding to negative case (target=0)\n",
    "\n",
    "1.   In each feature, the distribution of values corresponding to positive case (target=1)\n",
    "\n",
    "1.   In each feature, the distribution of values in the whole data set."
   ]
  },
  {
   "cell_type": "code",
   "execution_count": 270,
   "metadata": {
    "executionInfo": {
     "elapsed": 288,
     "status": "ok",
     "timestamp": 1636084086131,
     "user": {
      "displayName": "Josh Jiayang Hu",
      "photoUrl": "https://lh3.googleusercontent.com/a-/AOh14Ghd2PGxhU80wKHJ-xmsZpi1lO89h65lKI9rQggTig=s64",
      "userId": "07935646948219834727"
     },
     "user_tz": 240
    },
    "id": "g6TAwauQeXWV"
   },
   "outputs": [],
   "source": [
    "categorical_columns = ['state', 'presence_of_child_ind', 'streaming_media_subs', \n",
    "                       'streaming_entertainment_subs', 'marital_status', 'gender', 'income']\n",
    "numerical_columns = ['number_of_news_subs', 'age']"
   ]
  },
  {
   "cell_type": "markdown",
   "metadata": {
    "id": "XrSftlYlzK56"
   },
   "source": [
    "Plot categorical features."
   ]
  },
  {
   "cell_type": "code",
   "execution_count": 87,
   "metadata": {
    "colab": {
     "base_uri": "https://localhost:8080/",
     "height": 1000
    },
    "executionInfo": {
     "elapsed": 6288,
     "status": "ok",
     "timestamp": 1636060379346,
     "user": {
      "displayName": "Josh Jiayang Hu",
      "photoUrl": "https://lh3.googleusercontent.com/a-/AOh14Ghd2PGxhU80wKHJ-xmsZpi1lO89h65lKI9rQggTig=s64",
      "userId": "07935646948219834727"
     },
     "user_tz": 240
    },
    "id": "OJY_ODNZCaHn",
    "outputId": "1934af73-226b-4bba-bdee-5fd366b41567"
   },
   "outputs": [
    {
     "data": {
      "image/png": "[encoded data removed]",
      "text/plain": [
       "<Figure size 432x288 with 28 Axes>"
      ]
     },
     "metadata": {
      "needs_background": "light"
     },
     "output_type": "display_data"
    }
   ],
   "source": [
    "xtickrot = 60\n",
    "ax = {}\n",
    "for ind, column in enumerate(categorical_columns):\n",
    "    plt.subplot(len(categorical_columns), 4, ind * 4 + 1)\n",
    "    d0 = df[['target',column]].value_counts(normalize=True).\\\n",
    "                               reset_index().rename(columns={0: \"y\"})\n",
    "    ax[0] = sns.barplot(x=column,y='y', hue='target', data=d0, \n",
    "                        order=sorted(set(d0[column])))\n",
    "    ax[0].axes.set_title(\n",
    "        f\"'target' (0/1) distribution\\nin each category of\\nfeature '{column}'\"\n",
    "        )\n",
    "\n",
    "    plt.subplot(len(categorical_columns), 4, ind * 4 + 2)\n",
    "    d1 = df[df.target == 0][column].value_counts(normalize=True).reset_index()\n",
    "    ax[1] = sns.barplot(x='index',y=column, data=d1,\n",
    "                        order=sorted(set(d0[column])))\n",
    "    ax[1].axes.set_title(f\"feature '{column}' distribution\\nwith 'target'=0\")\n",
    "\n",
    "    plt.subplot(len(categorical_columns), 4, ind * 4 + 3)\n",
    "    d2 = df[df.target == 1][column].value_counts(normalize=True).reset_index()\n",
    "    ax[2] = sns.barplot(x='index',y=column, data=d2,\n",
    "                        order=sorted(set(d0[column])))\n",
    "    ax[2].axes.set_title(f\"feature '{column}' distribution\\nwith 'target'=1\")\n",
    "\n",
    "    plt.subplot(len(categorical_columns), 4, ind * 4 + 4)\n",
    "    d3 = df[column].value_counts(normalize=True).reset_index()\n",
    "    ax[3] = sns.barplot(x='index',y=column, data=d3,\n",
    "                        order=sorted(set(d0[column])))\n",
    "    ax[3].axes.set_title(f\"feature '{column}' distribution\\nin whole data set\")\n",
    "    \n",
    "    for i in range(4):\n",
    "        ax[i].set_xlabel(column)\n",
    "        ax[i].set_ylabel('Percentage')\n",
    "        ax[i].set_xticklabels(ax[i].get_xticklabels(),rotation = xtickrot)\n",
    "\n",
    "    plt.subplots_adjust(right=3, top=7, wspace=.4, hspace=.8)"
   ]
  },
  {
   "cell_type": "markdown",
   "metadata": {
    "id": "0BH_rDALzQrC"
   },
   "source": [
    "Plot numerical features."
   ]
  },
  {
   "cell_type": "code",
   "execution_count": 14,
   "metadata": {
    "colab": {
     "base_uri": "https://localhost:8080/",
     "height": 525
    },
    "executionInfo": {
     "elapsed": 5627,
     "status": "ok",
     "timestamp": 1636054177183,
     "user": {
      "displayName": "Josh Jiayang Hu",
      "photoUrl": "https://lh3.googleusercontent.com/a-/AOh14Ghd2PGxhU80wKHJ-xmsZpi1lO89h65lKI9rQggTig=s64",
      "userId": "07935646948219834727"
     },
     "user_tz": 240
    },
    "id": "naqIPELJd8Ub",
    "outputId": "ba410397-0ba1-43a3-8070-e2f3928cfd08"
   },
   "outputs": [
    {
     "data": {
      "image/png": "[encoded data removed]",
      "text/plain": [
       "<Figure size 432x288 with 8 Axes>"
      ]
     },
     "metadata": {
      "needs_background": "light"
     },
     "output_type": "display_data"
    }
   ],
   "source": [
    "for ind, column in enumerate(numerical_columns):\n",
    "    plt.subplot(len(categorical_columns), 4, ind * 4 + 1)\n",
    "    d0 = df[['target',column]]\n",
    "    ax[0] = sns.histplot(x=column, hue='target', data=d0, stat='percent', alpha=1)\n",
    "    ax[0].axes.set_title(\n",
    "        f\"'target' (0/1) distribution\\n of feature '{column}'\"\n",
    "        )\n",
    "\n",
    "    plt.subplot(len(categorical_columns), 4, ind * 4 + 2)\n",
    "    d1 = df[df.target == 0][[column]]\n",
    "    ax[1] = sns.histplot(x=column, data=d1, stat='percent', alpha=1)\n",
    "    ax[1].axes.set_title(f\"feature '{column}' distribution\\nwith 'target'=0\")\n",
    "\n",
    "    plt.subplot(len(categorical_columns), 4, ind * 4 + 3)\n",
    "    d2 = df[df.target == 1][[column]]\n",
    "    ax[2] = sns.histplot(x=column, data=d2, stat='percent', alpha=1)\n",
    "    ax[2].axes.set_title(f\"feature '{column}' distribution\\nwith 'target'=1\")\n",
    "\n",
    "    plt.subplot(len(categorical_columns), 4, ind * 4 + 4)\n",
    "    d3 = df[[column]]\n",
    "    ax[3] = sns.histplot(x=column, data=d3, stat='percent', alpha=1)\n",
    "    ax[3].axes.set_title(f\"feature '{column}' distribution\\nin whole data set\")\n",
    "\n",
    "    plt.subplots_adjust(right=3, top=7, wspace=.4, hspace=.6)"
   ]
  },
  {
   "cell_type": "code",
   "execution_count": 32,
   "metadata": {
    "executionInfo": {
     "elapsed": 375,
     "status": "ok",
     "timestamp": 1636054880773,
     "user": {
      "displayName": "Josh Jiayang Hu",
      "photoUrl": "https://lh3.googleusercontent.com/a-/AOh14Ghd2PGxhU80wKHJ-xmsZpi1lO89h65lKI9rQggTig=s64",
      "userId": "07935646948219834727"
     },
     "user_tz": 240
    },
    "id": "8wTp8Xs0Z8UU"
   },
   "outputs": [],
   "source": [
    "X_train, X_test, y_train, y_test = train_test_split(df.drop(columns='target'), df['target'], random_state=42)"
   ]
  },
  {
   "cell_type": "markdown",
   "metadata": {
    "id": "SPtm4payUlDR"
   },
   "source": [
    "<a name='1-1'></a>\n",
    "### 1.1.  Estimating Model 1.1: Linear Regression (L2 penalty)"
   ]
  },
  {
   "cell_type": "code",
   "execution_count": 105,
   "metadata": {
    "executionInfo": {
     "elapsed": 185,
     "status": "ok",
     "timestamp": 1636066865310,
     "user": {
      "displayName": "Josh Jiayang Hu",
      "photoUrl": "https://lh3.googleusercontent.com/a-/AOh14Ghd2PGxhU80wKHJ-xmsZpi1lO89h65lKI9rQggTig=s64",
      "userId": "07935646948219834727"
     },
     "user_tz": 240
    },
    "id": "uKfFJWD7dL5a"
   },
   "outputs": [],
   "source": [
    "column_transformer = ColumnTransformer([\n",
    "    ('categorical', OneHotEncoder(), categorical_columns),\n",
    "    ('numerical', MinMaxScaler(), numerical_columns)\n",
    "])\n",
    "model_11 = Pipeline([\n",
    "    ('column_transformer', column_transformer),\n",
    "    ('regressor', Ridge(alpha=3))\n",
    "])\n",
    "# model_11.get_params()"
   ]
  },
  {
   "cell_type": "code",
   "execution_count": 106,
   "metadata": {
    "colab": {
     "base_uri": "https://localhost:8080/"
    },
    "executionInfo": {
     "elapsed": 46127,
     "status": "ok",
     "timestamp": 1636066912628,
     "user": {
      "displayName": "Josh Jiayang Hu",
      "photoUrl": "https://lh3.googleusercontent.com/a-/AOh14Ghd2PGxhU80wKHJ-xmsZpi1lO89h65lKI9rQggTig=s64",
      "userId": "07935646948219834727"
     },
     "user_tz": 240
    },
    "id": "0Xsr7UmoeJeV",
    "outputId": "ec36058c-88e8-4d0a-a878-6b3031626d31"
   },
   "outputs": [
    {
     "name": "stderr",
     "output_type": "stream",
     "text": [
      "/usr/local/lib/python3.7/dist-packages/joblib/externals/loky/process_executor.py:691: UserWarning: A worker stopped while some jobs were given to the executor. This can be caused by a too short worker timeout or by a memory leak.\n",
      "  \"timeout or by a memory leak.\", UserWarning\n"
     ]
    },
    {
     "data": {
      "text/plain": [
       "{'regressor__alpha': 3}"
      ]
     },
     "execution_count": 106,
     "metadata": {},
     "output_type": "execute_result"
    }
   ],
   "source": [
    "param_grid = {\"regressor__alpha\": [.1, .3, 1, 3, 10]}\n",
    "model_11_search = HalvingGridSearchCV(estimator=model1, param_grid=param_grid, n_jobs=-1)\\\n",
    "        .fit(X_train, y_train)\n",
    "model_11_search.best_params_  "
   ]
  },
  {
   "cell_type": "code",
   "execution_count": 69,
   "metadata": {
    "colab": {
     "base_uri": "https://localhost:8080/"
    },
    "executionInfo": {
     "elapsed": 1681,
     "status": "ok",
     "timestamp": 1636057662373,
     "user": {
      "displayName": "Josh Jiayang Hu",
      "photoUrl": "https://lh3.googleusercontent.com/a-/AOh14Ghd2PGxhU80wKHJ-xmsZpi1lO89h65lKI9rQggTig=s64",
      "userId": "07935646948219834727"
     },
     "user_tz": 240
    },
    "id": "jjexxvSRkvtp",
    "outputId": "4029b3b5-75c0-460f-e809-158f98eec95b"
   },
   "outputs": [
    {
     "name": "stdout",
     "output_type": "stream",
     "text": [
      "training score 0.5756019631488907\n",
      "testing score 0.5743096279126849\n"
     ]
    }
   ],
   "source": [
    "print('training score', model_11_search.score(X_train, y_train))\n",
    "print('testing score', model_11_search.score(X_test, y_test))"
   ]
  },
  {
   "cell_type": "code",
   "execution_count": 264,
   "metadata": {
    "colab": {
     "base_uri": "https://localhost:8080/"
    },
    "executionInfo": {
     "elapsed": 221,
     "status": "ok",
     "timestamp": 1636082904304,
     "user": {
      "displayName": "Josh Jiayang Hu",
      "photoUrl": "https://lh3.googleusercontent.com/a-/AOh14Ghd2PGxhU80wKHJ-xmsZpi1lO89h65lKI9rQggTig=s64",
      "userId": "07935646948219834727"
     },
     "user_tz": 240
    },
    "id": "65xj_vV2I80k",
    "outputId": "f67b1a37-f272-44e4-f2a1-3616ca91042e"
   },
   "outputs": [
    {
     "data": {
      "text/plain": [
       "array([ 0.02741359, -0.02571425, -0.00169934, -0.09357539,  0.09357539,\n",
       "       -0.05891328,  0.05891328, -0.05891328,  0.05891328, -0.02796979,\n",
       "        0.1483147 , -0.1203449 ,  0.05391907, -0.05391907, -0.03928723,\n",
       "       -0.09234809,  0.07030337,  0.02472556, -0.02193926, -0.04462508,\n",
       "       -0.05521364,  0.08423138,  0.05700666,  0.02533846,  0.04816785,\n",
       "       -0.05635995,  1.412259  , -0.04191211])"
      ]
     },
     "execution_count": 264,
     "metadata": {},
     "output_type": "execute_result"
    }
   ],
   "source": [
    "model_11_search.best_estimator_.named_steps['regressor'].coef_"
   ]
  },
  {
   "cell_type": "code",
   "execution_count": 314,
   "metadata": {
    "colab": {
     "base_uri": "https://localhost:8080/"
    },
    "executionInfo": {
     "elapsed": 182,
     "status": "ok",
     "timestamp": 1636088465939,
     "user": {
      "displayName": "Josh Jiayang Hu",
      "photoUrl": "https://lh3.googleusercontent.com/a-/AOh14Ghd2PGxhU80wKHJ-xmsZpi1lO89h65lKI9rQggTig=s64",
      "userId": "07935646948219834727"
     },
     "user_tz": 240
    },
    "id": "fDV9QYp5eHsh",
    "outputId": "ab1876d3-40c0-4c0f-cb5d-af47f6389ab8"
   },
   "outputs": [
    {
     "data": {
      "text/plain": [
       "0.34402174875285707"
      ]
     },
     "execution_count": 314,
     "metadata": {},
     "output_type": "execute_result"
    }
   ],
   "source": [
    "model_11_search.best_estimator_.named_steps['regressor'].intercept_\n"
   ]
  },
  {
   "cell_type": "code",
   "execution_count": 110,
   "metadata": {
    "executionInfo": {
     "elapsed": 189,
     "status": "ok",
     "timestamp": 1636066972865,
     "user": {
      "displayName": "Josh Jiayang Hu",
      "photoUrl": "https://lh3.googleusercontent.com/a-/AOh14Ghd2PGxhU80wKHJ-xmsZpi1lO89h65lKI9rQggTig=s64",
      "userId": "07935646948219834727"
     },
     "user_tz": 240
    },
    "id": "sRFMjVYyKMFG"
   },
   "outputs": [],
   "source": [
    "with open(folder+'model_11.pickle', 'wb') as f11a:\n",
    "    dill.dump(model_11, f11a)\n",
    "with open(folder+'model_11_search.pickle', 'wb') as f11b:\n",
    "    dill.dump(model_11_search, f11b)    "
   ]
  },
  {
   "cell_type": "markdown",
   "metadata": {
    "id": "Eias1ctrePUR"
   },
   "source": [
    "The L2 regulated linear regression is fair. The score shows that the direct linear correlation among the features is week. Not a good model."
   ]
  },
  {
   "cell_type": "markdown",
   "metadata": {
    "id": "wg6PaQgDlaRt"
   },
   "source": [
    "<a name='1-2'></a>\n",
    "### 1.2.  Estimating Model 1.2: Linear Regression (L1 penalty)"
   ]
  },
  {
   "cell_type": "code",
   "execution_count": null,
   "metadata": {
    "id": "Z_qA9f1zlAuX"
   },
   "outputs": [],
   "source": [
    "model_12 = Pipeline([\n",
    "    ('column_transformer', column_transformer),\n",
    "    ('regressor', Lasso())\n",
    "])\n",
    "# model_12.get_params()"
   ]
  },
  {
   "cell_type": "code",
   "execution_count": 259,
   "metadata": {
    "colab": {
     "base_uri": "https://localhost:8080/"
    },
    "executionInfo": {
     "elapsed": 46929,
     "status": "ok",
     "timestamp": 1636082780644,
     "user": {
      "displayName": "Josh Jiayang Hu",
      "photoUrl": "https://lh3.googleusercontent.com/a-/AOh14Ghd2PGxhU80wKHJ-xmsZpi1lO89h65lKI9rQggTig=s64",
      "userId": "07935646948219834727"
     },
     "user_tz": 240
    },
    "id": "SsipRT_umP-0",
    "outputId": "fb66657e-be8e-439a-fa64-1ebfc10f12fa"
   },
   "outputs": [
    {
     "data": {
      "text/plain": [
       "{'regressor__alpha': 3}"
      ]
     },
     "execution_count": 259,
     "metadata": {},
     "output_type": "execute_result"
    }
   ],
   "source": [
    "param_grid = {\"regressor__alpha\": [.1, .3, 1, 3, 10]}\n",
    "model_12_search = HalvingGridSearchCV(estimator=model_12, param_grid=param_grid, n_jobs=-1)\\\n",
    "        .fit(X_train, y_train)\n",
    "model_12_search.best_params_ "
   ]
  },
  {
   "cell_type": "code",
   "execution_count": 260,
   "metadata": {
    "colab": {
     "base_uri": "https://localhost:8080/"
    },
    "executionInfo": {
     "elapsed": 1337,
     "status": "ok",
     "timestamp": 1636082781961,
     "user": {
      "displayName": "Josh Jiayang Hu",
      "photoUrl": "https://lh3.googleusercontent.com/a-/AOh14Ghd2PGxhU80wKHJ-xmsZpi1lO89h65lKI9rQggTig=s64",
      "userId": "07935646948219834727"
     },
     "user_tz": 240
    },
    "id": "DPS0GKn8mP5i",
    "outputId": "a4bbfafc-fdb9-4326-8431-fe8cb6fe3162"
   },
   "outputs": [
    {
     "name": "stdout",
     "output_type": "stream",
     "text": [
      "training score 0.0\n",
      "testing score -8.506640220451445e-06\n"
     ]
    }
   ],
   "source": [
    "print('training score', model_12_search.score(X_train, y_train))\n",
    "print('testing score', model_12_search.score(X_test, y_test))"
   ]
  },
  {
   "cell_type": "code",
   "execution_count": 263,
   "metadata": {
    "colab": {
     "base_uri": "https://localhost:8080/"
    },
    "executionInfo": {
     "elapsed": 183,
     "status": "ok",
     "timestamp": 1636082846845,
     "user": {
      "displayName": "Josh Jiayang Hu",
      "photoUrl": "https://lh3.googleusercontent.com/a-/AOh14Ghd2PGxhU80wKHJ-xmsZpi1lO89h65lKI9rQggTig=s64",
      "userId": "07935646948219834727"
     },
     "user_tz": 240
    },
    "id": "aYy_-gnoIrga",
    "outputId": "68cfd7ec-3af4-40ff-b804-dd09cefbf2e4"
   },
   "outputs": [
    {
     "data": {
      "text/plain": [
       "array([ 0., -0., -0., -0.,  0., -0.,  0., -0.,  0.,  0.,  0., -0.,  0.,\n",
       "       -0.,  0.,  0.,  0., -0., -0., -0., -0.,  0.,  0.,  0.,  0., -0.,\n",
       "        0., -0.])"
      ]
     },
     "execution_count": 263,
     "metadata": {},
     "output_type": "execute_result"
    }
   ],
   "source": [
    "model_12_search.best_estimator_.named_steps['regressor'].coef_"
   ]
  },
  {
   "cell_type": "code",
   "execution_count": 312,
   "metadata": {
    "colab": {
     "base_uri": "https://localhost:8080/"
    },
    "executionInfo": {
     "elapsed": 281,
     "status": "ok",
     "timestamp": 1636088375328,
     "user": {
      "displayName": "Josh Jiayang Hu",
      "photoUrl": "https://lh3.googleusercontent.com/a-/AOh14Ghd2PGxhU80wKHJ-xmsZpi1lO89h65lKI9rQggTig=s64",
      "userId": "07935646948219834727"
     },
     "user_tz": 240
    },
    "id": "zKoypMVUdrvZ",
    "outputId": "57078da1-c2af-477c-895b-e95f01933b3f"
   },
   "outputs": [
    {
     "data": {
      "text/plain": [
       "0.14998013400025037"
      ]
     },
     "execution_count": 312,
     "metadata": {},
     "output_type": "execute_result"
    }
   ],
   "source": [
    "model_12_search.best_estimator_.named_steps['regressor'].intercept_"
   ]
  },
  {
   "cell_type": "code",
   "execution_count": 114,
   "metadata": {
    "executionInfo": {
     "elapsed": 175,
     "status": "ok",
     "timestamp": 1636067039594,
     "user": {
      "displayName": "Josh Jiayang Hu",
      "photoUrl": "https://lh3.googleusercontent.com/a-/AOh14Ghd2PGxhU80wKHJ-xmsZpi1lO89h65lKI9rQggTig=s64",
      "userId": "07935646948219834727"
     },
     "user_tz": 240
    },
    "id": "h0scj4-ZMT1p"
   },
   "outputs": [],
   "source": [
    "# with open(folder+'model_12.pickle', 'wb') as f12a:\n",
    "#     dill.dump(model_12, f12a)\n",
    "# with open(folder+'model_12_search.pickle', 'wb') as f12b:\n",
    "#     dill.dump(model_12_search, f12b)    "
   ]
  },
  {
   "cell_type": "markdown",
   "metadata": {
    "id": "qPkyAD8tdeJv"
   },
   "source": [
    "The L1 regulated linear regression is not good. It besically concluds that not any feature is important, and the 'best' model is a constant 0.15, which is obviously a bad model."
   ]
  },
  {
   "cell_type": "markdown",
   "metadata": {
    "id": "b0q9bD3r3E2Y"
   },
   "source": [
    "<a name='1-3'></a>\n",
    "### 1.3.   Estimating Model 1.3: Logistic Regression\n",
    "\n",
    "\n",
    "\n"
   ]
  },
  {
   "cell_type": "code",
   "execution_count": 90,
   "metadata": {
    "executionInfo": {
     "elapsed": 163,
     "status": "ok",
     "timestamp": 1636062010263,
     "user": {
      "displayName": "Josh Jiayang Hu",
      "photoUrl": "https://lh3.googleusercontent.com/a-/AOh14Ghd2PGxhU80wKHJ-xmsZpi1lO89h65lKI9rQggTig=s64",
      "userId": "07935646948219834727"
     },
     "user_tz": 240
    },
    "id": "NLBLryt83FZO"
   },
   "outputs": [],
   "source": [
    "model_13 = Pipeline([\n",
    "    ('column_transformer', column_transformer),\n",
    "    ('regressor', LogisticRegression(\n",
    "        solver='saga',\n",
    "        penalty='elasticnet',\n",
    "        n_jobs=-1,\n",
    "        random_state=42))\n",
    "])\n",
    "# model_13.get_params()"
   ]
  },
  {
   "cell_type": "code",
   "execution_count": 93,
   "metadata": {
    "colab": {
     "base_uri": "https://localhost:8080/"
    },
    "executionInfo": {
     "elapsed": 646172,
     "status": "ok",
     "timestamp": 1636062689216,
     "user": {
      "displayName": "Josh Jiayang Hu",
      "photoUrl": "https://lh3.googleusercontent.com/a-/AOh14Ghd2PGxhU80wKHJ-xmsZpi1lO89h65lKI9rQggTig=s64",
      "userId": "07935646948219834727"
     },
     "user_tz": 240
    },
    "id": "Ol7NYbDW3jUv",
    "outputId": "8ba59aba-18db-49b8-bc17-51ddabb103ed"
   },
   "outputs": [
    {
     "name": "stderr",
     "output_type": "stream",
     "text": [
      "/usr/local/lib/python3.7/dist-packages/joblib/externals/loky/process_executor.py:691: UserWarning: A worker stopped while some jobs were given to the executor. This can be caused by a too short worker timeout or by a memory leak.\n",
      "  \"timeout or by a memory leak.\", UserWarning\n",
      "/usr/local/lib/python3.7/dist-packages/sklearn/linear_model/_sag.py:354: ConvergenceWarning: The max_iter was reached which means the coef_ did not converge\n",
      "  ConvergenceWarning,\n"
     ]
    },
    {
     "data": {
      "text/plain": [
       "{'regressor__C': 3, 'regressor__l1_ratio': 1}"
      ]
     },
     "execution_count": 93,
     "metadata": {},
     "output_type": "execute_result"
    }
   ],
   "source": [
    "param_grid = {'regressor__C': [.3, 1, 3],\n",
    "              'regressor__l1_ratio': [0, 0.33, 0.66, 1]}\n",
    "model_13_search = HalvingGridSearchCV(estimator=model_13, param_grid=param_grid, n_jobs=-1)\\\n",
    "        .fit(X_train, y_train)\n",
    "model_13_search.best_params_  "
   ]
  },
  {
   "cell_type": "code",
   "execution_count": 94,
   "metadata": {
    "colab": {
     "base_uri": "https://localhost:8080/"
    },
    "executionInfo": {
     "elapsed": 1609,
     "status": "ok",
     "timestamp": 1636062691388,
     "user": {
      "displayName": "Josh Jiayang Hu",
      "photoUrl": "https://lh3.googleusercontent.com/a-/AOh14Ghd2PGxhU80wKHJ-xmsZpi1lO89h65lKI9rQggTig=s64",
      "userId": "07935646948219834727"
     },
     "user_tz": 240
    },
    "id": "V8STqInw3jSa",
    "outputId": "3df18d9a-93b2-4816-c5db-50a911d8731f"
   },
   "outputs": [
    {
     "name": "stdout",
     "output_type": "stream",
     "text": [
      "training score 0.9498029728244008\n",
      "testing score 0.9500683743239106\n"
     ]
    }
   ],
   "source": [
    "print('training score', model_13_search.score(X_train, y_train))\n",
    "print('testing score', model_13_search.score(X_test, y_test))"
   ]
  },
  {
   "cell_type": "markdown",
   "metadata": {
    "id": "OcOWh2P48n3x"
   },
   "source": [
    "Pretty good result! It basically uses a logistic regression with a pure L1 penalty and a mild (1/3) regulatization."
   ]
  },
  {
   "cell_type": "code",
   "execution_count": 283,
   "metadata": {
    "executionInfo": {
     "elapsed": 315,
     "status": "ok",
     "timestamp": 1636087274690,
     "user": {
      "displayName": "Josh Jiayang Hu",
      "photoUrl": "https://lh3.googleusercontent.com/a-/AOh14Ghd2PGxhU80wKHJ-xmsZpi1lO89h65lKI9rQggTig=s64",
      "userId": "07935646948219834727"
     },
     "user_tz": 240
    },
    "id": "rxZljJUTUIK4"
   },
   "outputs": [],
   "source": [
    "categorical_columns_categories = model_13_search\\\n",
    "                                .best_estimator_\\\n",
    "                                .named_steps['column_transformer']\\\n",
    "                                .named_transformers_['categorical']\\\n",
    "                                .categories_"
   ]
  },
  {
   "cell_type": "code",
   "execution_count": 325,
   "metadata": {
    "executionInfo": {
     "elapsed": 181,
     "status": "ok",
     "timestamp": 1636089158557,
     "user": {
      "displayName": "Josh Jiayang Hu",
      "photoUrl": "https://lh3.googleusercontent.com/a-/AOh14Ghd2PGxhU80wKHJ-xmsZpi1lO89h65lKI9rQggTig=s64",
      "userId": "07935646948219834727"
     },
     "user_tz": 240
    },
    "id": "ixgDGeuotCRc"
   },
   "outputs": [],
   "source": [
    "logistic_regression_coef = model_13_search.best_estimator_.named_steps['regressor'].coef_"
   ]
  },
  {
   "cell_type": "code",
   "execution_count": 330,
   "metadata": {
    "colab": {
     "base_uri": "https://localhost:8080/"
    },
    "executionInfo": {
     "elapsed": 184,
     "status": "ok",
     "timestamp": 1636089394688,
     "user": {
      "displayName": "Josh Jiayang Hu",
      "photoUrl": "https://lh3.googleusercontent.com/a-/AOh14Ghd2PGxhU80wKHJ-xmsZpi1lO89h65lKI9rQggTig=s64",
      "userId": "07935646948219834727"
     },
     "user_tz": 240
    },
    "id": "giDhN89phumJ",
    "outputId": "c387ad5a-00d0-4c11-f19d-0d9c0e67c627"
   },
   "outputs": [
    {
     "data": {
      "text/plain": [
       "array([[ 0.67490162, -0.96711567,  0.        , -3.62896547,  3.08503305,\n",
       "        -0.91333943,  0.37010945, -0.91333943,  0.37010945,  0.        ,\n",
       "         1.52567083, -1.53937893,  0.70302507, -1.24688407, -3.45687545,\n",
       "        -4.10583537,  4.03596205,  3.56906608,  2.73513607,  1.87645076,\n",
       "         0.97783095, -0.97787468, -1.61581235, -2.5383902 , -1.335681  ,\n",
       "         0.31769862, 83.54481332, -0.92314138]])"
      ]
     },
     "execution_count": 330,
     "metadata": {},
     "output_type": "execute_result"
    }
   ],
   "source": [
    "logistic_regression_coef"
   ]
  },
  {
   "cell_type": "code",
   "execution_count": 336,
   "metadata": {
    "executionInfo": {
     "elapsed": 167,
     "status": "ok",
     "timestamp": 1636089596149,
     "user": {
      "displayName": "Josh Jiayang Hu",
      "photoUrl": "https://lh3.googleusercontent.com/a-/AOh14Ghd2PGxhU80wKHJ-xmsZpi1lO89h65lKI9rQggTig=s64",
      "userId": "07935646948219834727"
     },
     "user_tz": 240
    },
    "id": "VTB018uHVnoM"
   },
   "outputs": [],
   "source": [
    "feature_coef = {}\n",
    "i_c = 0\n",
    "for i_f, feature in enumerate(categorical_columns):\n",
    "    for category in categorical_columns_categories[i_f]:\n",
    "        feature_coef['_'.join([feature, str(category)])] \\\n",
    "            = logistic_regression_coef[0, i_c]\n",
    "        i_c += 1\n",
    "for i_f, feature in enumerate(numerical_columns):\n",
    "    feature_coef[feature] = logistic_regression_coef[0, i_f - 2]"
   ]
  },
  {
   "cell_type": "code",
   "execution_count": 337,
   "metadata": {
    "colab": {
     "base_uri": "https://localhost:8080/",
     "height": 917
    },
    "executionInfo": {
     "elapsed": 283,
     "status": "ok",
     "timestamp": 1636089600222,
     "user": {
      "displayName": "Josh Jiayang Hu",
      "photoUrl": "https://lh3.googleusercontent.com/a-/AOh14Ghd2PGxhU80wKHJ-xmsZpi1lO89h65lKI9rQggTig=s64",
      "userId": "07935646948219834727"
     },
     "user_tz": 240
    },
    "id": "BPDYwMXsawGP",
    "outputId": "ea38398b-b77e-4f86-a4ea-4d185273f7d6"
   },
   "outputs": [
    {
     "data": {
      "text/html": [
       "<div>\n",
       "<style scoped>\n",
       "    .dataframe tbody tr th:only-of-type {\n",
       "        vertical-align: middle;\n",
       "    }\n",
       "\n",
       "    .dataframe tbody tr th {\n",
       "        vertical-align: top;\n",
       "    }\n",
       "\n",
       "    .dataframe thead th {\n",
       "        text-align: right;\n",
       "    }\n",
       "</style>\n",
       "<table border=\"1\" class=\"dataframe\">\n",
       "  <thead>\n",
       "    <tr style=\"text-align: right;\">\n",
       "      <th></th>\n",
       "      <th>feature_category</th>\n",
       "      <th>coef</th>\n",
       "    </tr>\n",
       "  </thead>\n",
       "  <tbody>\n",
       "    <tr>\n",
       "      <th>0</th>\n",
       "      <td>state_CA</td>\n",
       "      <td>0.674902</td>\n",
       "    </tr>\n",
       "    <tr>\n",
       "      <th>1</th>\n",
       "      <td>state_DC</td>\n",
       "      <td>-0.967116</td>\n",
       "    </tr>\n",
       "    <tr>\n",
       "      <th>2</th>\n",
       "      <td>state_GA</td>\n",
       "      <td>0.000000</td>\n",
       "    </tr>\n",
       "    <tr>\n",
       "      <th>3</th>\n",
       "      <td>presence_of_child_ind_0</td>\n",
       "      <td>-3.628965</td>\n",
       "    </tr>\n",
       "    <tr>\n",
       "      <th>4</th>\n",
       "      <td>presence_of_child_ind_1</td>\n",
       "      <td>3.085033</td>\n",
       "    </tr>\n",
       "    <tr>\n",
       "      <th>5</th>\n",
       "      <td>streaming_media_subs_N</td>\n",
       "      <td>-0.913339</td>\n",
       "    </tr>\n",
       "    <tr>\n",
       "      <th>6</th>\n",
       "      <td>streaming_media_subs_Y</td>\n",
       "      <td>0.370109</td>\n",
       "    </tr>\n",
       "    <tr>\n",
       "      <th>7</th>\n",
       "      <td>streaming_entertainment_subs_0</td>\n",
       "      <td>-0.913339</td>\n",
       "    </tr>\n",
       "    <tr>\n",
       "      <th>8</th>\n",
       "      <td>streaming_entertainment_subs_1</td>\n",
       "      <td>0.370109</td>\n",
       "    </tr>\n",
       "    <tr>\n",
       "      <th>9</th>\n",
       "      <td>marital_status_M</td>\n",
       "      <td>0.000000</td>\n",
       "    </tr>\n",
       "    <tr>\n",
       "      <th>10</th>\n",
       "      <td>marital_status_S</td>\n",
       "      <td>1.525671</td>\n",
       "    </tr>\n",
       "    <tr>\n",
       "      <th>11</th>\n",
       "      <td>marital_status_U</td>\n",
       "      <td>-1.539379</td>\n",
       "    </tr>\n",
       "    <tr>\n",
       "      <th>12</th>\n",
       "      <td>gender_Female</td>\n",
       "      <td>0.703025</td>\n",
       "    </tr>\n",
       "    <tr>\n",
       "      <th>13</th>\n",
       "      <td>gender_Male</td>\n",
       "      <td>-1.246884</td>\n",
       "    </tr>\n",
       "    <tr>\n",
       "      <th>14</th>\n",
       "      <td>income_$100k-124k</td>\n",
       "      <td>-3.456875</td>\n",
       "    </tr>\n",
       "    <tr>\n",
       "      <th>15</th>\n",
       "      <td>income_$125k-149k</td>\n",
       "      <td>-4.105835</td>\n",
       "    </tr>\n",
       "    <tr>\n",
       "      <th>16</th>\n",
       "      <td>income_$150k-174k</td>\n",
       "      <td>4.035962</td>\n",
       "    </tr>\n",
       "    <tr>\n",
       "      <th>17</th>\n",
       "      <td>income_$175k-199k</td>\n",
       "      <td>3.569066</td>\n",
       "    </tr>\n",
       "    <tr>\n",
       "      <th>18</th>\n",
       "      <td>income_$200k-224k</td>\n",
       "      <td>2.735136</td>\n",
       "    </tr>\n",
       "    <tr>\n",
       "      <th>19</th>\n",
       "      <td>income_$225k-249k</td>\n",
       "      <td>1.876451</td>\n",
       "    </tr>\n",
       "    <tr>\n",
       "      <th>20</th>\n",
       "      <td>income_$250k+</td>\n",
       "      <td>0.977831</td>\n",
       "    </tr>\n",
       "    <tr>\n",
       "      <th>21</th>\n",
       "      <td>income_$25k-49k</td>\n",
       "      <td>-0.977875</td>\n",
       "    </tr>\n",
       "    <tr>\n",
       "      <th>22</th>\n",
       "      <td>income_$50k-74k</td>\n",
       "      <td>-1.615812</td>\n",
       "    </tr>\n",
       "    <tr>\n",
       "      <th>23</th>\n",
       "      <td>income_$75k-99k</td>\n",
       "      <td>-2.538390</td>\n",
       "    </tr>\n",
       "    <tr>\n",
       "      <th>24</th>\n",
       "      <td>income_&lt;$25k</td>\n",
       "      <td>-1.335681</td>\n",
       "    </tr>\n",
       "    <tr>\n",
       "      <th>25</th>\n",
       "      <td>income_U</td>\n",
       "      <td>0.317699</td>\n",
       "    </tr>\n",
       "    <tr>\n",
       "      <th>26</th>\n",
       "      <td>number_of_news_subs</td>\n",
       "      <td>83.544813</td>\n",
       "    </tr>\n",
       "    <tr>\n",
       "      <th>27</th>\n",
       "      <td>age</td>\n",
       "      <td>-0.923141</td>\n",
       "    </tr>\n",
       "  </tbody>\n",
       "</table>\n",
       "</div>"
      ],
      "text/plain": [
       "                  feature_category       coef\n",
       "0                         state_CA   0.674902\n",
       "1                         state_DC  -0.967116\n",
       "2                         state_GA   0.000000\n",
       "3          presence_of_child_ind_0  -3.628965\n",
       "4          presence_of_child_ind_1   3.085033\n",
       "5           streaming_media_subs_N  -0.913339\n",
       "6           streaming_media_subs_Y   0.370109\n",
       "7   streaming_entertainment_subs_0  -0.913339\n",
       "8   streaming_entertainment_subs_1   0.370109\n",
       "9                 marital_status_M   0.000000\n",
       "10                marital_status_S   1.525671\n",
       "11                marital_status_U  -1.539379\n",
       "12                   gender_Female   0.703025\n",
       "13                     gender_Male  -1.246884\n",
       "14               income_$100k-124k  -3.456875\n",
       "15               income_$125k-149k  -4.105835\n",
       "16               income_$150k-174k   4.035962\n",
       "17               income_$175k-199k   3.569066\n",
       "18               income_$200k-224k   2.735136\n",
       "19               income_$225k-249k   1.876451\n",
       "20                   income_$250k+   0.977831\n",
       "21                 income_$25k-49k  -0.977875\n",
       "22                 income_$50k-74k  -1.615812\n",
       "23                 income_$75k-99k  -2.538390\n",
       "24                    income_<$25k  -1.335681\n",
       "25                        income_U   0.317699\n",
       "26             number_of_news_subs  83.544813\n",
       "27                             age  -0.923141"
      ]
     },
     "execution_count": 337,
     "metadata": {},
     "output_type": "execute_result"
    }
   ],
   "source": [
    "pd.Series(feature_coef).to_frame()\\\n",
    "        .reset_index()\\\n",
    "        .rename(columns={'index': 'feature_category', 0:'coef'})"
   ]
  },
  {
   "cell_type": "code",
   "execution_count": 302,
   "metadata": {
    "executionInfo": {
     "elapsed": 7,
     "status": "ok",
     "timestamp": 1636087785238,
     "user": {
      "displayName": "Josh Jiayang Hu",
      "photoUrl": "https://lh3.googleusercontent.com/a-/AOh14Ghd2PGxhU80wKHJ-xmsZpi1lO89h65lKI9rQggTig=s64",
      "userId": "07935646948219834727"
     },
     "user_tz": 240
    },
    "id": "S4RF3L39MiNP"
   },
   "outputs": [],
   "source": [
    "# with open(folder+'model_13.pickle', 'wb') as f13a:\n",
    "#     dill.dump(model_13, f13a)\n",
    "# with open(folder+'model_13_search.pickle', 'wb') as f13b:\n",
    "#     dill.dump(model_13_search, f13b)    "
   ]
  },
  {
   "cell_type": "markdown",
   "metadata": {
    "id": "t5u1ylOUkzs8"
   },
   "source": [
    "This model works pretty well. Notice that `number_of_news_subs` has very strong impact on the result. Other features will be discussed in the conclusion section."
   ]
  },
  {
   "cell_type": "markdown",
   "metadata": {
    "id": "oquJrX_ezWl6"
   },
   "source": [
    "<a name='1-4'></a>\n",
    "### 1.4.  Estimating Model 1.4: Random Forest Classifier"
   ]
  },
  {
   "cell_type": "code",
   "execution_count": 98,
   "metadata": {
    "executionInfo": {
     "elapsed": 205,
     "status": "ok",
     "timestamp": 1636063500058,
     "user": {
      "displayName": "Josh Jiayang Hu",
      "photoUrl": "https://lh3.googleusercontent.com/a-/AOh14Ghd2PGxhU80wKHJ-xmsZpi1lO89h65lKI9rQggTig=s64",
      "userId": "07935646948219834727"
     },
     "user_tz": 240
    },
    "id": "2--NsbBd5kCo"
   },
   "outputs": [],
   "source": [
    "model_14 = Pipeline([\n",
    "    ('column_transformer', column_transformer),\n",
    "    ('regressor', RandomForestClassifier(\n",
    "        n_jobs=-1,\n",
    "        random_state=42))\n",
    "])\n",
    "# model_14.get_params()"
   ]
  },
  {
   "cell_type": "code",
   "execution_count": 99,
   "metadata": {
    "colab": {
     "base_uri": "https://localhost:8080/"
    },
    "executionInfo": {
     "elapsed": 2478534,
     "status": "ok",
     "timestamp": 1636065980896,
     "user": {
      "displayName": "Josh Jiayang Hu",
      "photoUrl": "https://lh3.googleusercontent.com/a-/AOh14Ghd2PGxhU80wKHJ-xmsZpi1lO89h65lKI9rQggTig=s64",
      "userId": "07935646948219834727"
     },
     "user_tz": 240
    },
    "id": "kd68iChw5kA6",
    "outputId": "0bd94d96-9523-4a03-e3c2-512da8cfa59c"
   },
   "outputs": [
    {
     "name": "stderr",
     "output_type": "stream",
     "text": [
      "/usr/local/lib/python3.7/dist-packages/joblib/externals/loky/process_executor.py:691: UserWarning: A worker stopped while some jobs were given to the executor. This can be caused by a too short worker timeout or by a memory leak.\n",
      "  \"timeout or by a memory leak.\", UserWarning\n"
     ]
    },
    {
     "data": {
      "text/plain": [
       "{'regressor__max_depth': 300, 'regressor__n_estimators': 300}"
      ]
     },
     "execution_count": 99,
     "metadata": {},
     "output_type": "execute_result"
    }
   ],
   "source": [
    "param_grid_no_bootstrap = {'regressor__n_estimators': [100, 300],\n",
    "                           'regressor__max_depth': [100, 300, None]}\n",
    "model_14_no_bootstrap_search = HalvingGridSearchCV(estimator=model_14, \n",
    "                                                   param_grid=param_grid_no_bootstrap,\n",
    "                                                   n_jobs=-1)\\\n",
    "        .fit(X_train, y_train)\n",
    "model_14_no_bootstrap_search.best_params_ "
   ]
  },
  {
   "cell_type": "code",
   "execution_count": 100,
   "metadata": {
    "colab": {
     "base_uri": "https://localhost:8080/"
    },
    "executionInfo": {
     "elapsed": 28322,
     "status": "ok",
     "timestamp": 1636066009214,
     "user": {
      "displayName": "Josh Jiayang Hu",
      "photoUrl": "https://lh3.googleusercontent.com/a-/AOh14Ghd2PGxhU80wKHJ-xmsZpi1lO89h65lKI9rQggTig=s64",
      "userId": "07935646948219834727"
     },
     "user_tz": 240
    },
    "id": "tGZGpMjY5j-5",
    "outputId": "c3788668-204e-4a48-ca92-dcf2a83c6585"
   },
   "outputs": [
    {
     "name": "stdout",
     "output_type": "stream",
     "text": [
      "training score 0.9629499104669327\n",
      "testing score 0.9614532095111746\n"
     ]
    }
   ],
   "source": [
    "print('training score', model_14_no_bootstrap_search.score(X_train, y_train))\n",
    "print('testing score', model_14_no_bootstrap_search.score(X_test, y_test))"
   ]
  },
  {
   "cell_type": "code",
   "execution_count": 346,
   "metadata": {
    "executionInfo": {
     "elapsed": 261,
     "status": "ok",
     "timestamp": 1636090094136,
     "user": {
      "displayName": "Josh Jiayang Hu",
      "photoUrl": "https://lh3.googleusercontent.com/a-/AOh14Ghd2PGxhU80wKHJ-xmsZpi1lO89h65lKI9rQggTig=s64",
      "userId": "07935646948219834727"
     },
     "user_tz": 240
    },
    "id": "T_ocSOsHwu_6"
   },
   "outputs": [],
   "source": [
    "randomforestregression_feature_importances = model_14_no_bootstrap_search\\\n",
    "                                        .best_estimator_['regressor']\\\n",
    "                                        .feature_importances_"
   ]
  },
  {
   "cell_type": "code",
   "execution_count": 347,
   "metadata": {
    "colab": {
     "base_uri": "https://localhost:8080/"
    },
    "executionInfo": {
     "elapsed": 162,
     "status": "ok",
     "timestamp": 1636090096523,
     "user": {
      "displayName": "Josh Jiayang Hu",
      "photoUrl": "https://lh3.googleusercontent.com/a-/AOh14Ghd2PGxhU80wKHJ-xmsZpi1lO89h65lKI9rQggTig=s64",
      "userId": "07935646948219834727"
     },
     "user_tz": 240
    },
    "id": "G_iI-VpEisqr",
    "outputId": "40119672-a94e-4f07-b41d-c231971593de"
   },
   "outputs": [
    {
     "data": {
      "text/plain": [
       "array([2.96372488e-04, 1.14589503e-04, 2.36894308e-04, 6.87417355e-02,\n",
       "       7.75733353e-02, 5.02681433e-02, 4.78371307e-02, 4.20580786e-02,\n",
       "       5.18952397e-02, 1.32650537e-02, 2.72671156e-02, 4.16002325e-02,\n",
       "       3.94436583e-02, 3.62182737e-02, 4.91807842e-03, 6.25019886e-03,\n",
       "       1.53813316e-02, 5.53895163e-03, 3.55798414e-03, 7.64427856e-03,\n",
       "       5.45940394e-03, 1.55334232e-04, 9.01022835e-04, 3.92893499e-03,\n",
       "       1.24489952e-05, 1.19726455e-03, 3.14690399e-01, 1.33548515e-01])"
      ]
     },
     "execution_count": 347,
     "metadata": {},
     "output_type": "execute_result"
    }
   ],
   "source": [
    "randomforestregression_feature_importances"
   ]
  },
  {
   "cell_type": "code",
   "execution_count": 348,
   "metadata": {
    "executionInfo": {
     "elapsed": 157,
     "status": "ok",
     "timestamp": 1636090106066,
     "user": {
      "displayName": "Josh Jiayang Hu",
      "photoUrl": "https://lh3.googleusercontent.com/a-/AOh14Ghd2PGxhU80wKHJ-xmsZpi1lO89h65lKI9rQggTig=s64",
      "userId": "07935646948219834727"
     },
     "user_tz": 240
    },
    "id": "LcOduP_sfapW"
   },
   "outputs": [],
   "source": [
    "feature_importances = {}\n",
    "i_c = 0\n",
    "\n",
    "for i_f, feature in enumerate(categorical_columns):\n",
    "    for category in categorical_columns_categories[i_f]:\n",
    "        feature_importances['_'.join([feature, str(category)])] \\\n",
    "        = randomforestregression_feature_importances[i_c]\n",
    "        i_c += 1\n",
    "\n",
    "for i_f, feature in enumerate(numerical_columns):\n",
    "    feature_importances[feature] = randomforestregression_feature_importances[i_f - 2]"
   ]
  },
  {
   "cell_type": "code",
   "execution_count": 349,
   "metadata": {
    "colab": {
     "base_uri": "https://localhost:8080/",
     "height": 917
    },
    "executionInfo": {
     "elapsed": 191,
     "status": "ok",
     "timestamp": 1636090112048,
     "user": {
      "displayName": "Josh Jiayang Hu",
      "photoUrl": "https://lh3.googleusercontent.com/a-/AOh14Ghd2PGxhU80wKHJ-xmsZpi1lO89h65lKI9rQggTig=s64",
      "userId": "07935646948219834727"
     },
     "user_tz": 240
    },
    "id": "LdR_m_jkfadF",
    "outputId": "450863fe-414e-4741-ab0b-2d33de835b91"
   },
   "outputs": [
    {
     "data": {
      "text/html": [
       "<div>\n",
       "<style scoped>\n",
       "    .dataframe tbody tr th:only-of-type {\n",
       "        vertical-align: middle;\n",
       "    }\n",
       "\n",
       "    .dataframe tbody tr th {\n",
       "        vertical-align: top;\n",
       "    }\n",
       "\n",
       "    .dataframe thead th {\n",
       "        text-align: right;\n",
       "    }\n",
       "</style>\n",
       "<table border=\"1\" class=\"dataframe\">\n",
       "  <thead>\n",
       "    <tr style=\"text-align: right;\">\n",
       "      <th></th>\n",
       "      <th>feature_category</th>\n",
       "      <th>feature_importance</th>\n",
       "    </tr>\n",
       "  </thead>\n",
       "  <tbody>\n",
       "    <tr>\n",
       "      <th>0</th>\n",
       "      <td>state_CA</td>\n",
       "      <td>0.000296</td>\n",
       "    </tr>\n",
       "    <tr>\n",
       "      <th>1</th>\n",
       "      <td>state_DC</td>\n",
       "      <td>0.000115</td>\n",
       "    </tr>\n",
       "    <tr>\n",
       "      <th>2</th>\n",
       "      <td>state_GA</td>\n",
       "      <td>0.000237</td>\n",
       "    </tr>\n",
       "    <tr>\n",
       "      <th>3</th>\n",
       "      <td>presence_of_child_ind_0</td>\n",
       "      <td>0.068742</td>\n",
       "    </tr>\n",
       "    <tr>\n",
       "      <th>4</th>\n",
       "      <td>presence_of_child_ind_1</td>\n",
       "      <td>0.077573</td>\n",
       "    </tr>\n",
       "    <tr>\n",
       "      <th>5</th>\n",
       "      <td>streaming_media_subs_N</td>\n",
       "      <td>0.050268</td>\n",
       "    </tr>\n",
       "    <tr>\n",
       "      <th>6</th>\n",
       "      <td>streaming_media_subs_Y</td>\n",
       "      <td>0.047837</td>\n",
       "    </tr>\n",
       "    <tr>\n",
       "      <th>7</th>\n",
       "      <td>streaming_entertainment_subs_0</td>\n",
       "      <td>0.042058</td>\n",
       "    </tr>\n",
       "    <tr>\n",
       "      <th>8</th>\n",
       "      <td>streaming_entertainment_subs_1</td>\n",
       "      <td>0.051895</td>\n",
       "    </tr>\n",
       "    <tr>\n",
       "      <th>9</th>\n",
       "      <td>marital_status_M</td>\n",
       "      <td>0.013265</td>\n",
       "    </tr>\n",
       "    <tr>\n",
       "      <th>10</th>\n",
       "      <td>marital_status_S</td>\n",
       "      <td>0.027267</td>\n",
       "    </tr>\n",
       "    <tr>\n",
       "      <th>11</th>\n",
       "      <td>marital_status_U</td>\n",
       "      <td>0.041600</td>\n",
       "    </tr>\n",
       "    <tr>\n",
       "      <th>12</th>\n",
       "      <td>gender_Female</td>\n",
       "      <td>0.039444</td>\n",
       "    </tr>\n",
       "    <tr>\n",
       "      <th>13</th>\n",
       "      <td>gender_Male</td>\n",
       "      <td>0.036218</td>\n",
       "    </tr>\n",
       "    <tr>\n",
       "      <th>14</th>\n",
       "      <td>income_$100k-124k</td>\n",
       "      <td>0.004918</td>\n",
       "    </tr>\n",
       "    <tr>\n",
       "      <th>15</th>\n",
       "      <td>income_$125k-149k</td>\n",
       "      <td>0.006250</td>\n",
       "    </tr>\n",
       "    <tr>\n",
       "      <th>16</th>\n",
       "      <td>income_$150k-174k</td>\n",
       "      <td>0.015381</td>\n",
       "    </tr>\n",
       "    <tr>\n",
       "      <th>17</th>\n",
       "      <td>income_$175k-199k</td>\n",
       "      <td>0.005539</td>\n",
       "    </tr>\n",
       "    <tr>\n",
       "      <th>18</th>\n",
       "      <td>income_$200k-224k</td>\n",
       "      <td>0.003558</td>\n",
       "    </tr>\n",
       "    <tr>\n",
       "      <th>19</th>\n",
       "      <td>income_$225k-249k</td>\n",
       "      <td>0.007644</td>\n",
       "    </tr>\n",
       "    <tr>\n",
       "      <th>20</th>\n",
       "      <td>income_$250k+</td>\n",
       "      <td>0.005459</td>\n",
       "    </tr>\n",
       "    <tr>\n",
       "      <th>21</th>\n",
       "      <td>income_$25k-49k</td>\n",
       "      <td>0.000155</td>\n",
       "    </tr>\n",
       "    <tr>\n",
       "      <th>22</th>\n",
       "      <td>income_$50k-74k</td>\n",
       "      <td>0.000901</td>\n",
       "    </tr>\n",
       "    <tr>\n",
       "      <th>23</th>\n",
       "      <td>income_$75k-99k</td>\n",
       "      <td>0.003929</td>\n",
       "    </tr>\n",
       "    <tr>\n",
       "      <th>24</th>\n",
       "      <td>income_&lt;$25k</td>\n",
       "      <td>0.000012</td>\n",
       "    </tr>\n",
       "    <tr>\n",
       "      <th>25</th>\n",
       "      <td>income_U</td>\n",
       "      <td>0.001197</td>\n",
       "    </tr>\n",
       "    <tr>\n",
       "      <th>26</th>\n",
       "      <td>number_of_news_subs</td>\n",
       "      <td>0.314690</td>\n",
       "    </tr>\n",
       "    <tr>\n",
       "      <th>27</th>\n",
       "      <td>age</td>\n",
       "      <td>0.133549</td>\n",
       "    </tr>\n",
       "  </tbody>\n",
       "</table>\n",
       "</div>"
      ],
      "text/plain": [
       "                  feature_category  feature_importance\n",
       "0                         state_CA            0.000296\n",
       "1                         state_DC            0.000115\n",
       "2                         state_GA            0.000237\n",
       "3          presence_of_child_ind_0            0.068742\n",
       "4          presence_of_child_ind_1            0.077573\n",
       "5           streaming_media_subs_N            0.050268\n",
       "6           streaming_media_subs_Y            0.047837\n",
       "7   streaming_entertainment_subs_0            0.042058\n",
       "8   streaming_entertainment_subs_1            0.051895\n",
       "9                 marital_status_M            0.013265\n",
       "10                marital_status_S            0.027267\n",
       "11                marital_status_U            0.041600\n",
       "12                   gender_Female            0.039444\n",
       "13                     gender_Male            0.036218\n",
       "14               income_$100k-124k            0.004918\n",
       "15               income_$125k-149k            0.006250\n",
       "16               income_$150k-174k            0.015381\n",
       "17               income_$175k-199k            0.005539\n",
       "18               income_$200k-224k            0.003558\n",
       "19               income_$225k-249k            0.007644\n",
       "20                   income_$250k+            0.005459\n",
       "21                 income_$25k-49k            0.000155\n",
       "22                 income_$50k-74k            0.000901\n",
       "23                 income_$75k-99k            0.003929\n",
       "24                    income_<$25k            0.000012\n",
       "25                        income_U            0.001197\n",
       "26             number_of_news_subs            0.314690\n",
       "27                             age            0.133549"
      ]
     },
     "execution_count": 349,
     "metadata": {},
     "output_type": "execute_result"
    }
   ],
   "source": [
    "pd.Series(feature_importances)\\\n",
    "        .to_frame()\\\n",
    "        .reset_index()\\\n",
    "        .rename(columns={'index': 'feature_category',\n",
    "                         0:'feature_importance'})"
   ]
  },
  {
   "cell_type": "code",
   "execution_count": 371,
   "metadata": {
    "colab": {
     "base_uri": "https://localhost:8080/",
     "height": 453
    },
    "executionInfo": {
     "elapsed": 245,
     "status": "ok",
     "timestamp": 1636093131263,
     "user": {
      "displayName": "Josh Jiayang Hu",
      "photoUrl": "https://lh3.googleusercontent.com/a-/AOh14Ghd2PGxhU80wKHJ-xmsZpi1lO89h65lKI9rQggTig=s64",
      "userId": "07935646948219834727"
     },
     "user_tz": 240
    },
    "id": "l-Mc3aJYvrw4",
    "outputId": "250b4d36-50ad-4d00-c7ee-91b81835f857"
   },
   "outputs": [
    {
     "data": {
      "text/html": [
       "<div>\n",
       "<style scoped>\n",
       "    .dataframe tbody tr th:only-of-type {\n",
       "        vertical-align: middle;\n",
       "    }\n",
       "\n",
       "    .dataframe tbody tr th {\n",
       "        vertical-align: top;\n",
       "    }\n",
       "\n",
       "    .dataframe thead th {\n",
       "        text-align: right;\n",
       "    }\n",
       "</style>\n",
       "<table border=\"1\" class=\"dataframe\">\n",
       "  <thead>\n",
       "    <tr style=\"text-align: right;\">\n",
       "      <th></th>\n",
       "      <th>iter</th>\n",
       "      <th>n_resources</th>\n",
       "      <th>mean_fit_time</th>\n",
       "      <th>std_fit_time</th>\n",
       "      <th>mean_score_time</th>\n",
       "      <th>std_score_time</th>\n",
       "      <th>param_regressor__max_depth</th>\n",
       "      <th>param_regressor__n_estimators</th>\n",
       "      <th>params</th>\n",
       "      <th>split0_test_score</th>\n",
       "      <th>split1_test_score</th>\n",
       "      <th>split2_test_score</th>\n",
       "      <th>split3_test_score</th>\n",
       "      <th>split4_test_score</th>\n",
       "      <th>mean_test_score</th>\n",
       "      <th>std_test_score</th>\n",
       "      <th>rank_test_score</th>\n",
       "      <th>split0_train_score</th>\n",
       "      <th>split1_train_score</th>\n",
       "      <th>split2_train_score</th>\n",
       "      <th>split3_train_score</th>\n",
       "      <th>split4_train_score</th>\n",
       "      <th>mean_train_score</th>\n",
       "      <th>std_train_score</th>\n",
       "    </tr>\n",
       "  </thead>\n",
       "  <tbody>\n",
       "    <tr>\n",
       "      <th>0</th>\n",
       "      <td>0</td>\n",
       "      <td>244974</td>\n",
       "      <td>19.882386</td>\n",
       "      <td>1.654005</td>\n",
       "      <td>1.106639</td>\n",
       "      <td>0.127672</td>\n",
       "      <td>100</td>\n",
       "      <td>100</td>\n",
       "      <td>{'regressor__max_depth': 100, 'regressor__n_es...</td>\n",
       "      <td>0.959648</td>\n",
       "      <td>0.960199</td>\n",
       "      <td>0.961893</td>\n",
       "      <td>0.962322</td>\n",
       "      <td>0.960118</td>\n",
       "      <td>0.960836</td>\n",
       "      <td>0.001064</td>\n",
       "      <td>6</td>\n",
       "      <td>0.964231</td>\n",
       "      <td>0.964537</td>\n",
       "      <td>0.964088</td>\n",
       "      <td>0.963710</td>\n",
       "      <td>0.964629</td>\n",
       "      <td>0.964239</td>\n",
       "      <td>0.000330</td>\n",
       "    </tr>\n",
       "    <tr>\n",
       "      <th>1</th>\n",
       "      <td>0</td>\n",
       "      <td>244974</td>\n",
       "      <td>56.977237</td>\n",
       "      <td>3.087114</td>\n",
       "      <td>2.955964</td>\n",
       "      <td>0.083762</td>\n",
       "      <td>100</td>\n",
       "      <td>300</td>\n",
       "      <td>{'regressor__max_depth': 100, 'regressor__n_es...</td>\n",
       "      <td>0.959771</td>\n",
       "      <td>0.960383</td>\n",
       "      <td>0.962097</td>\n",
       "      <td>0.962363</td>\n",
       "      <td>0.960138</td>\n",
       "      <td>0.960950</td>\n",
       "      <td>0.001066</td>\n",
       "      <td>3</td>\n",
       "      <td>0.964231</td>\n",
       "      <td>0.964542</td>\n",
       "      <td>0.964088</td>\n",
       "      <td>0.963716</td>\n",
       "      <td>0.964629</td>\n",
       "      <td>0.964241</td>\n",
       "      <td>0.000329</td>\n",
       "    </tr>\n",
       "    <tr>\n",
       "      <th>2</th>\n",
       "      <td>0</td>\n",
       "      <td>244974</td>\n",
       "      <td>19.643893</td>\n",
       "      <td>1.551183</td>\n",
       "      <td>1.194181</td>\n",
       "      <td>0.052293</td>\n",
       "      <td>300</td>\n",
       "      <td>100</td>\n",
       "      <td>{'regressor__max_depth': 300, 'regressor__n_es...</td>\n",
       "      <td>0.959648</td>\n",
       "      <td>0.960199</td>\n",
       "      <td>0.961893</td>\n",
       "      <td>0.962322</td>\n",
       "      <td>0.960118</td>\n",
       "      <td>0.960836</td>\n",
       "      <td>0.001064</td>\n",
       "      <td>6</td>\n",
       "      <td>0.964231</td>\n",
       "      <td>0.964537</td>\n",
       "      <td>0.964088</td>\n",
       "      <td>0.963710</td>\n",
       "      <td>0.964629</td>\n",
       "      <td>0.964239</td>\n",
       "      <td>0.000330</td>\n",
       "    </tr>\n",
       "    <tr>\n",
       "      <th>3</th>\n",
       "      <td>0</td>\n",
       "      <td>244974</td>\n",
       "      <td>56.408426</td>\n",
       "      <td>1.908778</td>\n",
       "      <td>3.018754</td>\n",
       "      <td>0.097111</td>\n",
       "      <td>300</td>\n",
       "      <td>300</td>\n",
       "      <td>{'regressor__max_depth': 300, 'regressor__n_es...</td>\n",
       "      <td>0.959771</td>\n",
       "      <td>0.960383</td>\n",
       "      <td>0.962097</td>\n",
       "      <td>0.962363</td>\n",
       "      <td>0.960138</td>\n",
       "      <td>0.960950</td>\n",
       "      <td>0.001066</td>\n",
       "      <td>3</td>\n",
       "      <td>0.964231</td>\n",
       "      <td>0.964542</td>\n",
       "      <td>0.964088</td>\n",
       "      <td>0.963716</td>\n",
       "      <td>0.964629</td>\n",
       "      <td>0.964241</td>\n",
       "      <td>0.000329</td>\n",
       "    </tr>\n",
       "    <tr>\n",
       "      <th>4</th>\n",
       "      <td>0</td>\n",
       "      <td>244974</td>\n",
       "      <td>19.548899</td>\n",
       "      <td>1.258377</td>\n",
       "      <td>1.102721</td>\n",
       "      <td>0.057429</td>\n",
       "      <td>None</td>\n",
       "      <td>100</td>\n",
       "      <td>{'regressor__max_depth': None, 'regressor__n_e...</td>\n",
       "      <td>0.959648</td>\n",
       "      <td>0.960199</td>\n",
       "      <td>0.961893</td>\n",
       "      <td>0.962322</td>\n",
       "      <td>0.960118</td>\n",
       "      <td>0.960836</td>\n",
       "      <td>0.001064</td>\n",
       "      <td>6</td>\n",
       "      <td>0.964231</td>\n",
       "      <td>0.964537</td>\n",
       "      <td>0.964088</td>\n",
       "      <td>0.963710</td>\n",
       "      <td>0.964629</td>\n",
       "      <td>0.964239</td>\n",
       "      <td>0.000330</td>\n",
       "    </tr>\n",
       "    <tr>\n",
       "      <th>5</th>\n",
       "      <td>0</td>\n",
       "      <td>244974</td>\n",
       "      <td>51.843849</td>\n",
       "      <td>10.737925</td>\n",
       "      <td>2.651539</td>\n",
       "      <td>0.641490</td>\n",
       "      <td>None</td>\n",
       "      <td>300</td>\n",
       "      <td>{'regressor__max_depth': None, 'regressor__n_e...</td>\n",
       "      <td>0.959771</td>\n",
       "      <td>0.960383</td>\n",
       "      <td>0.962097</td>\n",
       "      <td>0.962363</td>\n",
       "      <td>0.960138</td>\n",
       "      <td>0.960950</td>\n",
       "      <td>0.001066</td>\n",
       "      <td>3</td>\n",
       "      <td>0.964231</td>\n",
       "      <td>0.964542</td>\n",
       "      <td>0.964088</td>\n",
       "      <td>0.963716</td>\n",
       "      <td>0.964629</td>\n",
       "      <td>0.964241</td>\n",
       "      <td>0.000329</td>\n",
       "    </tr>\n",
       "    <tr>\n",
       "      <th>6</th>\n",
       "      <td>1</td>\n",
       "      <td>734922</td>\n",
       "      <td>271.436615</td>\n",
       "      <td>18.625259</td>\n",
       "      <td>7.924117</td>\n",
       "      <td>0.175324</td>\n",
       "      <td>300</td>\n",
       "      <td>300</td>\n",
       "      <td>{'regressor__max_depth': 300, 'regressor__n_es...</td>\n",
       "      <td>0.962166</td>\n",
       "      <td>0.961744</td>\n",
       "      <td>0.961227</td>\n",
       "      <td>0.961799</td>\n",
       "      <td>0.961104</td>\n",
       "      <td>0.961608</td>\n",
       "      <td>0.000391</td>\n",
       "      <td>1</td>\n",
       "      <td>0.962930</td>\n",
       "      <td>0.963049</td>\n",
       "      <td>0.963205</td>\n",
       "      <td>0.962977</td>\n",
       "      <td>0.963200</td>\n",
       "      <td>0.963072</td>\n",
       "      <td>0.000113</td>\n",
       "    </tr>\n",
       "    <tr>\n",
       "      <th>7</th>\n",
       "      <td>1</td>\n",
       "      <td>734922</td>\n",
       "      <td>280.605042</td>\n",
       "      <td>9.720470</td>\n",
       "      <td>7.975652</td>\n",
       "      <td>0.408039</td>\n",
       "      <td>None</td>\n",
       "      <td>300</td>\n",
       "      <td>{'regressor__max_depth': None, 'regressor__n_e...</td>\n",
       "      <td>0.962166</td>\n",
       "      <td>0.961744</td>\n",
       "      <td>0.961227</td>\n",
       "      <td>0.961799</td>\n",
       "      <td>0.961104</td>\n",
       "      <td>0.961608</td>\n",
       "      <td>0.000391</td>\n",
       "      <td>1</td>\n",
       "      <td>0.962930</td>\n",
       "      <td>0.963049</td>\n",
       "      <td>0.963205</td>\n",
       "      <td>0.962977</td>\n",
       "      <td>0.963200</td>\n",
       "      <td>0.963072</td>\n",
       "      <td>0.000113</td>\n",
       "    </tr>\n",
       "  </tbody>\n",
       "</table>\n",
       "</div>"
      ],
      "text/plain": [
       "   iter  n_resources  ...  mean_train_score  std_train_score\n",
       "0     0       244974  ...          0.964239         0.000330\n",
       "1     0       244974  ...          0.964241         0.000329\n",
       "2     0       244974  ...          0.964239         0.000330\n",
       "3     0       244974  ...          0.964241         0.000329\n",
       "4     0       244974  ...          0.964239         0.000330\n",
       "5     0       244974  ...          0.964241         0.000329\n",
       "6     1       734922  ...          0.963072         0.000113\n",
       "7     1       734922  ...          0.963072         0.000113\n",
       "\n",
       "[8 rows x 24 columns]"
      ]
     },
     "execution_count": 371,
     "metadata": {},
     "output_type": "execute_result"
    }
   ],
   "source": [
    "pd.DataFrame(model_14_no_bootstrap_search.cv_results_)"
   ]
  },
  {
   "cell_type": "code",
   "execution_count": 116,
   "metadata": {
    "executionInfo": {
     "elapsed": 719,
     "status": "ok",
     "timestamp": 1636067174878,
     "user": {
      "displayName": "Josh Jiayang Hu",
      "photoUrl": "https://lh3.googleusercontent.com/a-/AOh14Ghd2PGxhU80wKHJ-xmsZpi1lO89h65lKI9rQggTig=s64",
      "userId": "07935646948219834727"
     },
     "user_tz": 240
    },
    "id": "UWd5_60CMz5z"
   },
   "outputs": [],
   "source": [
    "# with open(folder+'model_14.pickle', 'wb') as f14a:\n",
    "#     dill.dump(model_14, f14a)\n",
    "# with open(folder+'model_14_no_bootstrap_search.pickle', 'wb') as f14b:\n",
    "#     dill.dump(model_14_no_bootstrap_search, f14b)    "
   ]
  },
  {
   "cell_type": "markdown",
   "metadata": {
    "id": "rvq1wIvPotkG"
   },
   "source": [
    "<a name='2'></a>\n",
    "## 2.   Data Processing 2"
   ]
  },
  {
   "cell_type": "markdown",
   "metadata": {
    "id": "rUZx4Ao4_i9I"
   },
   "source": [
    "<a name='2-0'></a>\n",
    "### 2.0.  Data Imbalance and Analysis\n",
    "\n",
    "\n",
    "The original is **imbalanced**. This is based on the **assumption** that the future data of 'PodNN' will be more balanced, or we want the audience to be more diverse. In other words, it is **assumed** that the current data is *not* representative to the (expected) future data.\n",
    "\n",
    "Below, some brief analyses are listed.\n",
    "\n",
    "\n",
    "1.   `state`\n",
    "\n",
    "\n",
    "> - Most data (~99%) are collected in CA. Assume that the new 'PodNN' is a nationa-wide program. The result shown in this data will mostly reflect the audience behaviors who live in CA.\n",
    "\n",
    "> - The fact that most data are collected in CA also potentially introduces other biases, e.g. race, education level, occupation, political leaning, etc.\n",
    "\n",
    "> - If possible (despite the time and price to pay), the current survey data need to collect more data from other states. \n",
    "\n",
    "> - When analysizing this data set, an optional option is to turn off this feature, given that CA is the overwhelming majority (~99%) case, and in DC (0.2% of total) and GA (1.1% of tatol) cases only 2.9% and 8.6 %.\n",
    "\n",
    "\n",
    "2.   `presence_of_chile_ind`, `streaming_media_subs` and `streaming_entertainment_subs`\n",
    "\n",
    "> - Hard to say these three features have extreme imbalence problems. The data distribute similarly in these three features. But it should be kept in mind that negative (target=0) cases account 80% of the total data.\n",
    "\n",
    "\n",
    "3.   `number_of_news_subs`\n",
    "\n",
    "> - This feature also has overwhelmingly majority of value 0. Note that in the negative (target=0) pool, 100% of people have 0 subsciption of news; in the positive (target=1) pool, majority of people (~50%) have 0 subsciption of news. This feature may not have much importance.\n",
    "\n",
    "\n",
    "4.   `age`\n",
    "\n",
    "> - There is an obvious singularity at age 45 (~28% of total), while other ages are ~1% - 2%. \n",
    "\n",
    "> - One possibility could be that there is some mistake in this data set. If this is true, it needs to be fixed. Otherwise, we can simply drop this feature since it may not have very strong impact on result. Models need to run to check on it.\n",
    "\n",
    "> - If the mistake is from surveying, say the survey happened to occur at the 45-year-old club (which is odd). To fix it, one option is to apply weight on observations when calculating cost function to balance out the singular frequncy. Other options include over-sampling other ages (the con is to generate a lot of redundant data), or under-sampling age 45 samples (the con is to waste data).\n",
    "\n",
    "> - If the age data is correct, then somehow there are indeed many people at 45 year-old correcly surveyed, which is of course not true in real world. Again, turning off this feature might be a good idea."
   ]
  },
  {
   "cell_type": "markdown",
   "metadata": {
    "id": "YTYomysgiQ1A"
   },
   "source": [
    "Start from the original data."
   ]
  },
  {
   "cell_type": "code",
   "execution_count": 8,
   "metadata": {
    "executionInfo": {
     "elapsed": 1634,
     "status": "ok",
     "timestamp": 1636136268103,
     "user": {
      "displayName": "Josh Jiayang Hu",
      "photoUrl": "https://lh3.googleusercontent.com/a-/AOh14Ghd2PGxhU80wKHJ-xmsZpi1lO89h65lKI9rQggTig=s64",
      "userId": "07935646948219834727"
     },
     "user_tz": 240
    },
    "id": "G9h6xK0CiFeq"
   },
   "outputs": [],
   "source": [
    "df2 = pd.read_csv(folder+'ds_practical.txt',sep='|')\n",
    "df2 = df2.iloc[:999500]\n",
    "df2.dropna(subset=['age'], inplace=True)\n",
    "df2.gender.replace({'feMalee': 'Female'}, inplace=True)"
   ]
  },
  {
   "cell_type": "markdown",
   "metadata": {
    "id": "MHekFWU5ij-8"
   },
   "source": [
    "Remove the `state` and/or `age` feature."
   ]
  },
  {
   "cell_type": "code",
   "execution_count": 9,
   "metadata": {
    "executionInfo": {
     "elapsed": 267,
     "status": "ok",
     "timestamp": 1636136268357,
     "user": {
      "displayName": "Josh Jiayang Hu",
      "photoUrl": "https://lh3.googleusercontent.com/a-/AOh14Ghd2PGxhU80wKHJ-xmsZpi1lO89h65lKI9rQggTig=s64",
      "userId": "07935646948219834727"
     },
     "user_tz": 240
    },
    "id": "kqFwHjWCg67U"
   },
   "outputs": [],
   "source": [
    "categorical_columns_no_state = ['presence_of_child_ind', 'streaming_media_subs', \n",
    "                       'streaming_entertainment_subs', 'marital_status', 'gender', 'income']\n",
    "numerical_columns_no_age = ['number_of_news_subs']"
   ]
  },
  {
   "cell_type": "code",
   "execution_count": 11,
   "metadata": {
    "executionInfo": {
     "elapsed": 587,
     "status": "ok",
     "timestamp": 1636136324573,
     "user": {
      "displayName": "Josh Jiayang Hu",
      "photoUrl": "https://lh3.googleusercontent.com/a-/AOh14Ghd2PGxhU80wKHJ-xmsZpi1lO89h65lKI9rQggTig=s64",
      "userId": "07935646948219834727"
     },
     "user_tz": 240
    },
    "id": "-oj2lg9fg608"
   },
   "outputs": [],
   "source": [
    "X2_train, X2_test, y2_train, y2_test = train_test_split(\n",
    "                                            df2.drop(columns=['target']), \n",
    "                                            df2['target'], \n",
    "                                            random_state=42)"
   ]
  },
  {
   "cell_type": "markdown",
   "metadata": {
    "id": "aKFf8Vs1jJBJ"
   },
   "source": [
    "<a name='2-1'></a>\n",
    "### 2.1.  Estimating Model 2.1: Logistic Regression"
   ]
  },
  {
   "cell_type": "code",
   "execution_count": 398,
   "metadata": {
    "executionInfo": {
     "elapsed": 169,
     "status": "ok",
     "timestamp": 1636095441434,
     "user": {
      "displayName": "Josh Jiayang Hu",
      "photoUrl": "https://lh3.googleusercontent.com/a-/AOh14Ghd2PGxhU80wKHJ-xmsZpi1lO89h65lKI9rQggTig=s64",
      "userId": "07935646948219834727"
     },
     "user_tz": 240
    },
    "id": "hggTRNaeyxot"
   },
   "outputs": [],
   "source": [
    "def print_feature_importance(model, regressor):\n",
    "    \"\"\"\n",
    "    This function is to print the coefficients (logistic regression) or\n",
    "    feature importances (random forest classifier) for each feature.\n",
    "    \"\"\"\n",
    "    categorical_columns_categories = model\\\n",
    "                                    .named_steps['column_transformer']\\\n",
    "                                    .named_transformers_['categorical']\\\n",
    "                                    .categories_\n",
    "    \n",
    "    categorical_columns = model\\\n",
    "                        .named_steps['column_transformer']\\\n",
    "                        .named_transformers_['categorical']\\\n",
    "                        .feature_names_in_\n",
    "    \n",
    "    numerical_columns = model\\\n",
    "                        .named_steps['column_transformer']\\\n",
    "                        .named_transformers_['numerical']\\\n",
    "                        .feature_names_in_\n",
    "\n",
    "    if regressor == 'log':\n",
    "        cls_feature_importance = model.named_steps['regressor']\\\n",
    "                                    .coef_\\\n",
    "                                    .reshape(-1)\n",
    "    elif regressor == 'rfc':\n",
    "        cls_feature_importance = model.named_steps['regressor']\\\n",
    "                                    .feature_importances_\\\n",
    "                                    .reshape(-1)\n",
    "    \n",
    "    feature_coef = {}\n",
    "    i_c = 0\n",
    "    for i_f, feature in enumerate(categorical_columns):\n",
    "        for category in categorical_columns_categories[i_f]:\n",
    "            feature_coef['_'.join([feature, str(category)])] \\\n",
    "                = cls_feature_importance[i_c]\n",
    "            i_c += 1\n",
    "    for i_f, feature in enumerate(numerical_columns):\n",
    "        feature_coef[feature] = cls_feature_importance[i_f - len(numerical_columns)]\n",
    "\n",
    "    df = pd.Series(feature_coef)\\\n",
    "            .to_frame()\\\n",
    "            .reset_index()\\\n",
    "            .rename(columns={'index': 'feature_category',\n",
    "                             0:'feature_importance'})\n",
    "    return df"
   ]
  },
  {
   "cell_type": "markdown",
   "metadata": {
    "id": "qeIhlcoQrM5b"
   },
   "source": [
    "<a name='2-1-1'></a>\n",
    "#### 2.1.1.  Turn Off `state`"
   ]
  },
  {
   "cell_type": "code",
   "execution_count": 379,
   "metadata": {
    "colab": {
     "base_uri": "https://localhost:8080/"
    },
    "executionInfo": {
     "elapsed": 51639,
     "status": "ok",
     "timestamp": 1636094316886,
     "user": {
      "displayName": "Josh Jiayang Hu",
      "photoUrl": "https://lh3.googleusercontent.com/a-/AOh14Ghd2PGxhU80wKHJ-xmsZpi1lO89h65lKI9rQggTig=s64",
      "userId": "07935646948219834727"
     },
     "user_tz": 240
    },
    "id": "Iq_pY7p4g6ya",
    "outputId": "6138d0ca-8c22-41c4-ef0c-c9d0eb24e8d7"
   },
   "outputs": [
    {
     "name": "stderr",
     "output_type": "stream",
     "text": [
      "/usr/local/lib/python3.7/dist-packages/sklearn/linear_model/_sag.py:354: ConvergenceWarning: The max_iter was reached which means the coef_ did not converge\n",
      "  ConvergenceWarning,\n"
     ]
    },
    {
     "name": "stdout",
     "output_type": "stream",
     "text": [
      "training score 0.9498179403584588\n",
      "testing score 0.950076538422288\n"
     ]
    }
   ],
   "source": [
    "column_transformer_no_state = ColumnTransformer([\n",
    "    ('categorical', OneHotEncoder(), categorical_columns_no_state),\n",
    "    ('numerical', MinMaxScaler(), numerical_columns)\n",
    "])\n",
    "# keep C=3, l1_ratio=1 from the first section\n",
    "model_211_no_state = Pipeline([\n",
    "    ('column_transformer', column_transformer_no_state),\n",
    "    ('regressor', LogisticRegression(\n",
    "        C=3,\n",
    "        l1_ratio=1,\n",
    "        solver='saga',\n",
    "        penalty='elasticnet',\n",
    "        n_jobs=-1,\n",
    "        random_state=42))\n",
    "])\n",
    "model_211_no_state.fit(X2_train, y2_train)\n",
    "print('training score', model_211_no_state.score(X2_train, y2_train))\n",
    "print('testing score', model_211_no_state.score(X2_test, y2_test))"
   ]
  },
  {
   "cell_type": "code",
   "execution_count": 405,
   "metadata": {
    "executionInfo": {
     "elapsed": 346,
     "status": "ok",
     "timestamp": 1636095699820,
     "user": {
      "displayName": "Josh Jiayang Hu",
      "photoUrl": "https://lh3.googleusercontent.com/a-/AOh14Ghd2PGxhU80wKHJ-xmsZpi1lO89h65lKI9rQggTig=s64",
      "userId": "07935646948219834727"
     },
     "user_tz": 240
    },
    "id": "41yFfbct5mOo"
   },
   "outputs": [],
   "source": [
    "# with open(folder+'model_211_no_state.pickle', 'wb') as f211:\n",
    "#     dill.dump(model_211_no_state, f211)"
   ]
  },
  {
   "cell_type": "code",
   "execution_count": 399,
   "metadata": {
    "colab": {
     "base_uri": "https://localhost:8080/",
     "height": 824
    },
    "executionInfo": {
     "elapsed": 201,
     "status": "ok",
     "timestamp": 1636095444962,
     "user": {
      "displayName": "Josh Jiayang Hu",
      "photoUrl": "https://lh3.googleusercontent.com/a-/AOh14Ghd2PGxhU80wKHJ-xmsZpi1lO89h65lKI9rQggTig=s64",
      "userId": "07935646948219834727"
     },
     "user_tz": 240
    },
    "id": "yFTRZSLG1Mc_",
    "outputId": "584a29bb-6a43-4832-f1ac-ce31c3653e9b"
   },
   "outputs": [
    {
     "data": {
      "text/html": [
       "<div>\n",
       "<style scoped>\n",
       "    .dataframe tbody tr th:only-of-type {\n",
       "        vertical-align: middle;\n",
       "    }\n",
       "\n",
       "    .dataframe tbody tr th {\n",
       "        vertical-align: top;\n",
       "    }\n",
       "\n",
       "    .dataframe thead th {\n",
       "        text-align: right;\n",
       "    }\n",
       "</style>\n",
       "<table border=\"1\" class=\"dataframe\">\n",
       "  <thead>\n",
       "    <tr style=\"text-align: right;\">\n",
       "      <th></th>\n",
       "      <th>feature_category</th>\n",
       "      <th>feature_importance</th>\n",
       "    </tr>\n",
       "  </thead>\n",
       "  <tbody>\n",
       "    <tr>\n",
       "      <th>0</th>\n",
       "      <td>presence_of_child_ind_0</td>\n",
       "      <td>-3.535846</td>\n",
       "    </tr>\n",
       "    <tr>\n",
       "      <th>1</th>\n",
       "      <td>presence_of_child_ind_1</td>\n",
       "      <td>3.227918</td>\n",
       "    </tr>\n",
       "    <tr>\n",
       "      <th>2</th>\n",
       "      <td>streaming_media_subs_N</td>\n",
       "      <td>-0.795399</td>\n",
       "    </tr>\n",
       "    <tr>\n",
       "      <th>3</th>\n",
       "      <td>streaming_media_subs_Y</td>\n",
       "      <td>0.487719</td>\n",
       "    </tr>\n",
       "    <tr>\n",
       "      <th>4</th>\n",
       "      <td>streaming_entertainment_subs_0</td>\n",
       "      <td>-0.795399</td>\n",
       "    </tr>\n",
       "    <tr>\n",
       "      <th>5</th>\n",
       "      <td>streaming_entertainment_subs_1</td>\n",
       "      <td>0.487719</td>\n",
       "    </tr>\n",
       "    <tr>\n",
       "      <th>6</th>\n",
       "      <td>marital_status_M</td>\n",
       "      <td>0.000000</td>\n",
       "    </tr>\n",
       "    <tr>\n",
       "      <th>7</th>\n",
       "      <td>marital_status_S</td>\n",
       "      <td>1.535703</td>\n",
       "    </tr>\n",
       "    <tr>\n",
       "      <th>8</th>\n",
       "      <td>marital_status_U</td>\n",
       "      <td>-1.537495</td>\n",
       "    </tr>\n",
       "    <tr>\n",
       "      <th>9</th>\n",
       "      <td>gender_Female</td>\n",
       "      <td>0.822346</td>\n",
       "    </tr>\n",
       "    <tr>\n",
       "      <th>10</th>\n",
       "      <td>gender_Male</td>\n",
       "      <td>-1.130255</td>\n",
       "    </tr>\n",
       "    <tr>\n",
       "      <th>11</th>\n",
       "      <td>income_$100k-124k</td>\n",
       "      <td>-3.547469</td>\n",
       "    </tr>\n",
       "    <tr>\n",
       "      <th>12</th>\n",
       "      <td>income_$125k-149k</td>\n",
       "      <td>-4.186363</td>\n",
       "    </tr>\n",
       "    <tr>\n",
       "      <th>13</th>\n",
       "      <td>income_$150k-174k</td>\n",
       "      <td>4.007819</td>\n",
       "    </tr>\n",
       "    <tr>\n",
       "      <th>14</th>\n",
       "      <td>income_$175k-199k</td>\n",
       "      <td>3.552122</td>\n",
       "    </tr>\n",
       "    <tr>\n",
       "      <th>15</th>\n",
       "      <td>income_$200k-224k</td>\n",
       "      <td>2.723493</td>\n",
       "    </tr>\n",
       "    <tr>\n",
       "      <th>16</th>\n",
       "      <td>income_$225k-249k</td>\n",
       "      <td>1.853200</td>\n",
       "    </tr>\n",
       "    <tr>\n",
       "      <th>17</th>\n",
       "      <td>income_$250k+</td>\n",
       "      <td>0.941819</td>\n",
       "    </tr>\n",
       "    <tr>\n",
       "      <th>18</th>\n",
       "      <td>income_$25k-49k</td>\n",
       "      <td>-0.760572</td>\n",
       "    </tr>\n",
       "    <tr>\n",
       "      <th>19</th>\n",
       "      <td>income_$50k-74k</td>\n",
       "      <td>-1.715804</td>\n",
       "    </tr>\n",
       "    <tr>\n",
       "      <th>20</th>\n",
       "      <td>income_$75k-99k</td>\n",
       "      <td>-2.594226</td>\n",
       "    </tr>\n",
       "    <tr>\n",
       "      <th>21</th>\n",
       "      <td>income_&lt;$25k</td>\n",
       "      <td>-1.277580</td>\n",
       "    </tr>\n",
       "    <tr>\n",
       "      <th>22</th>\n",
       "      <td>income_U</td>\n",
       "      <td>0.492609</td>\n",
       "    </tr>\n",
       "    <tr>\n",
       "      <th>23</th>\n",
       "      <td>number_of_news_subs</td>\n",
       "      <td>84.054252</td>\n",
       "    </tr>\n",
       "    <tr>\n",
       "      <th>24</th>\n",
       "      <td>age</td>\n",
       "      <td>-0.917615</td>\n",
       "    </tr>\n",
       "  </tbody>\n",
       "</table>\n",
       "</div>"
      ],
      "text/plain": [
       "                  feature_category  feature_importance\n",
       "0          presence_of_child_ind_0           -3.535846\n",
       "1          presence_of_child_ind_1            3.227918\n",
       "2           streaming_media_subs_N           -0.795399\n",
       "3           streaming_media_subs_Y            0.487719\n",
       "4   streaming_entertainment_subs_0           -0.795399\n",
       "5   streaming_entertainment_subs_1            0.487719\n",
       "6                 marital_status_M            0.000000\n",
       "7                 marital_status_S            1.535703\n",
       "8                 marital_status_U           -1.537495\n",
       "9                    gender_Female            0.822346\n",
       "10                     gender_Male           -1.130255\n",
       "11               income_$100k-124k           -3.547469\n",
       "12               income_$125k-149k           -4.186363\n",
       "13               income_$150k-174k            4.007819\n",
       "14               income_$175k-199k            3.552122\n",
       "15               income_$200k-224k            2.723493\n",
       "16               income_$225k-249k            1.853200\n",
       "17                   income_$250k+            0.941819\n",
       "18                 income_$25k-49k           -0.760572\n",
       "19                 income_$50k-74k           -1.715804\n",
       "20                 income_$75k-99k           -2.594226\n",
       "21                    income_<$25k           -1.277580\n",
       "22                        income_U            0.492609\n",
       "23             number_of_news_subs           84.054252\n",
       "24                             age           -0.917615"
      ]
     },
     "execution_count": 399,
     "metadata": {},
     "output_type": "execute_result"
    }
   ],
   "source": [
    "print_feature_importance(model_211_no_state, 'log')"
   ]
  },
  {
   "cell_type": "markdown",
   "metadata": {
    "id": "v2W6fsJyuBLF"
   },
   "source": [
    "<a name='2-1-2'></a>\n",
    "#### 2.1.2.  Turn Off `age`"
   ]
  },
  {
   "cell_type": "code",
   "execution_count": 380,
   "metadata": {
    "colab": {
     "base_uri": "https://localhost:8080/"
    },
    "executionInfo": {
     "elapsed": 48724,
     "status": "ok",
     "timestamp": 1636094365584,
     "user": {
      "displayName": "Josh Jiayang Hu",
      "photoUrl": "https://lh3.googleusercontent.com/a-/AOh14Ghd2PGxhU80wKHJ-xmsZpi1lO89h65lKI9rQggTig=s64",
      "userId": "07935646948219834727"
     },
     "user_tz": 240
    },
    "id": "SMRwx8Ulg6ot",
    "outputId": "f7e8cfaf-2fe0-4c06-e20c-1a95e9168e44"
   },
   "outputs": [
    {
     "name": "stderr",
     "output_type": "stream",
     "text": [
      "/usr/local/lib/python3.7/dist-packages/sklearn/linear_model/_sag.py:354: ConvergenceWarning: The max_iter was reached which means the coef_ did not converge\n",
      "  ConvergenceWarning,\n"
     ]
    },
    {
     "name": "stdout",
     "output_type": "stream",
     "text": [
      "training score 0.9489021994110955\n",
      "testing score 0.9492274721910399\n"
     ]
    }
   ],
   "source": [
    "column_transformer_no_age = ColumnTransformer([\n",
    "    ('categorical', OneHotEncoder(), categorical_columns),\n",
    "    ('numerical', MinMaxScaler(), numerical_columns_no_age)\n",
    "])\n",
    "# keep C=3, l1_ratio=1 from the first section\n",
    "model_212_no_age = Pipeline([\n",
    "    ('column_transformer', column_transformer_no_age),\n",
    "    ('regressor', LogisticRegression(\n",
    "        C=3,\n",
    "        l1_ratio=1,\n",
    "        solver='saga',\n",
    "        penalty='elasticnet',\n",
    "        n_jobs=-1,\n",
    "        random_state=42))\n",
    "])\n",
    "model_212_no_age.fit(X2_train, y2_train)\n",
    "print('training score', model_212_no_age.score(X2_train, y2_train))\n",
    "print('testing score', model_212_no_age.score(X2_test, y2_test))"
   ]
  },
  {
   "cell_type": "code",
   "execution_count": 406,
   "metadata": {
    "executionInfo": {
     "elapsed": 168,
     "status": "ok",
     "timestamp": 1636095725872,
     "user": {
      "displayName": "Josh Jiayang Hu",
      "photoUrl": "https://lh3.googleusercontent.com/a-/AOh14Ghd2PGxhU80wKHJ-xmsZpi1lO89h65lKI9rQggTig=s64",
      "userId": "07935646948219834727"
     },
     "user_tz": 240
    },
    "id": "RCigLrAz51Zn"
   },
   "outputs": [],
   "source": [
    "# with open(folder+'model_212_no_age.pickle', 'wb') as f212:\n",
    "#     dill.dump(model_212_no_age, f212)"
   ]
  },
  {
   "cell_type": "code",
   "execution_count": 400,
   "metadata": {
    "colab": {
     "base_uri": "https://localhost:8080/",
     "height": 917
    },
    "executionInfo": {
     "elapsed": 282,
     "status": "ok",
     "timestamp": 1636095466524,
     "user": {
      "displayName": "Josh Jiayang Hu",
      "photoUrl": "https://lh3.googleusercontent.com/a-/AOh14Ghd2PGxhU80wKHJ-xmsZpi1lO89h65lKI9rQggTig=s64",
      "userId": "07935646948219834727"
     },
     "user_tz": 240
    },
    "id": "fYBjNhGL43RZ",
    "outputId": "67e03e8a-5037-493e-ae77-442ad19a6551"
   },
   "outputs": [
    {
     "data": {
      "text/html": [
       "<div>\n",
       "<style scoped>\n",
       "    .dataframe tbody tr th:only-of-type {\n",
       "        vertical-align: middle;\n",
       "    }\n",
       "\n",
       "    .dataframe tbody tr th {\n",
       "        vertical-align: top;\n",
       "    }\n",
       "\n",
       "    .dataframe thead th {\n",
       "        text-align: right;\n",
       "    }\n",
       "</style>\n",
       "<table border=\"1\" class=\"dataframe\">\n",
       "  <thead>\n",
       "    <tr style=\"text-align: right;\">\n",
       "      <th></th>\n",
       "      <th>feature_category</th>\n",
       "      <th>feature_importance</th>\n",
       "    </tr>\n",
       "  </thead>\n",
       "  <tbody>\n",
       "    <tr>\n",
       "      <th>0</th>\n",
       "      <td>state_CA</td>\n",
       "      <td>0.747143</td>\n",
       "    </tr>\n",
       "    <tr>\n",
       "      <th>1</th>\n",
       "      <td>state_DC</td>\n",
       "      <td>-0.742763</td>\n",
       "    </tr>\n",
       "    <tr>\n",
       "      <th>2</th>\n",
       "      <td>state_GA</td>\n",
       "      <td>0.027898</td>\n",
       "    </tr>\n",
       "    <tr>\n",
       "      <th>3</th>\n",
       "      <td>state_nan</td>\n",
       "      <td>-0.904883</td>\n",
       "    </tr>\n",
       "    <tr>\n",
       "      <th>4</th>\n",
       "      <td>presence_of_child_ind_0</td>\n",
       "      <td>-3.904960</td>\n",
       "    </tr>\n",
       "    <tr>\n",
       "      <th>5</th>\n",
       "      <td>presence_of_child_ind_1</td>\n",
       "      <td>2.866546</td>\n",
       "    </tr>\n",
       "    <tr>\n",
       "      <th>6</th>\n",
       "      <td>streaming_media_subs_N</td>\n",
       "      <td>-1.153145</td>\n",
       "    </tr>\n",
       "    <tr>\n",
       "      <th>7</th>\n",
       "      <td>streaming_media_subs_Y</td>\n",
       "      <td>0.129784</td>\n",
       "    </tr>\n",
       "    <tr>\n",
       "      <th>8</th>\n",
       "      <td>streaming_entertainment_subs_0</td>\n",
       "      <td>-1.153145</td>\n",
       "    </tr>\n",
       "    <tr>\n",
       "      <th>9</th>\n",
       "      <td>streaming_entertainment_subs_1</td>\n",
       "      <td>0.129784</td>\n",
       "    </tr>\n",
       "    <tr>\n",
       "      <th>10</th>\n",
       "      <td>marital_status_M</td>\n",
       "      <td>0.000000</td>\n",
       "    </tr>\n",
       "    <tr>\n",
       "      <th>11</th>\n",
       "      <td>marital_status_S</td>\n",
       "      <td>1.535993</td>\n",
       "    </tr>\n",
       "    <tr>\n",
       "      <th>12</th>\n",
       "      <td>marital_status_U</td>\n",
       "      <td>-1.537095</td>\n",
       "    </tr>\n",
       "    <tr>\n",
       "      <th>13</th>\n",
       "      <td>gender_Female</td>\n",
       "      <td>0.457050</td>\n",
       "    </tr>\n",
       "    <tr>\n",
       "      <th>14</th>\n",
       "      <td>gender_Male</td>\n",
       "      <td>-1.494601</td>\n",
       "    </tr>\n",
       "    <tr>\n",
       "      <th>15</th>\n",
       "      <td>income_$100k-124k</td>\n",
       "      <td>-3.593225</td>\n",
       "    </tr>\n",
       "    <tr>\n",
       "      <th>16</th>\n",
       "      <td>income_$125k-149k</td>\n",
       "      <td>-4.231633</td>\n",
       "    </tr>\n",
       "    <tr>\n",
       "      <th>17</th>\n",
       "      <td>income_$150k-174k</td>\n",
       "      <td>3.970005</td>\n",
       "    </tr>\n",
       "    <tr>\n",
       "      <th>18</th>\n",
       "      <td>income_$175k-199k</td>\n",
       "      <td>3.515422</td>\n",
       "    </tr>\n",
       "    <tr>\n",
       "      <th>19</th>\n",
       "      <td>income_$200k-224k</td>\n",
       "      <td>2.687336</td>\n",
       "    </tr>\n",
       "    <tr>\n",
       "      <th>20</th>\n",
       "      <td>income_$225k-249k</td>\n",
       "      <td>1.819305</td>\n",
       "    </tr>\n",
       "    <tr>\n",
       "      <th>21</th>\n",
       "      <td>income_$250k+</td>\n",
       "      <td>0.910859</td>\n",
       "    </tr>\n",
       "    <tr>\n",
       "      <th>22</th>\n",
       "      <td>income_$25k-49k</td>\n",
       "      <td>-0.796897</td>\n",
       "    </tr>\n",
       "    <tr>\n",
       "      <th>23</th>\n",
       "      <td>income_$50k-74k</td>\n",
       "      <td>-1.781096</td>\n",
       "    </tr>\n",
       "    <tr>\n",
       "      <th>24</th>\n",
       "      <td>income_$75k-99k</td>\n",
       "      <td>-2.635831</td>\n",
       "    </tr>\n",
       "    <tr>\n",
       "      <th>25</th>\n",
       "      <td>income_&lt;$25k</td>\n",
       "      <td>-1.460319</td>\n",
       "    </tr>\n",
       "    <tr>\n",
       "      <th>26</th>\n",
       "      <td>income_U</td>\n",
       "      <td>0.459830</td>\n",
       "    </tr>\n",
       "    <tr>\n",
       "      <th>27</th>\n",
       "      <td>number_of_news_subs</td>\n",
       "      <td>83.624254</td>\n",
       "    </tr>\n",
       "  </tbody>\n",
       "</table>\n",
       "</div>"
      ],
      "text/plain": [
       "                  feature_category  feature_importance\n",
       "0                         state_CA            0.747143\n",
       "1                         state_DC           -0.742763\n",
       "2                         state_GA            0.027898\n",
       "3                        state_nan           -0.904883\n",
       "4          presence_of_child_ind_0           -3.904960\n",
       "5          presence_of_child_ind_1            2.866546\n",
       "6           streaming_media_subs_N           -1.153145\n",
       "7           streaming_media_subs_Y            0.129784\n",
       "8   streaming_entertainment_subs_0           -1.153145\n",
       "9   streaming_entertainment_subs_1            0.129784\n",
       "10                marital_status_M            0.000000\n",
       "11                marital_status_S            1.535993\n",
       "12                marital_status_U           -1.537095\n",
       "13                   gender_Female            0.457050\n",
       "14                     gender_Male           -1.494601\n",
       "15               income_$100k-124k           -3.593225\n",
       "16               income_$125k-149k           -4.231633\n",
       "17               income_$150k-174k            3.970005\n",
       "18               income_$175k-199k            3.515422\n",
       "19               income_$200k-224k            2.687336\n",
       "20               income_$225k-249k            1.819305\n",
       "21                   income_$250k+            0.910859\n",
       "22                 income_$25k-49k           -0.796897\n",
       "23                 income_$50k-74k           -1.781096\n",
       "24                 income_$75k-99k           -2.635831\n",
       "25                    income_<$25k           -1.460319\n",
       "26                        income_U            0.459830\n",
       "27             number_of_news_subs           83.624254"
      ]
     },
     "execution_count": 400,
     "metadata": {},
     "output_type": "execute_result"
    }
   ],
   "source": [
    "print_feature_importance(model_212_no_age, 'log')"
   ]
  },
  {
   "cell_type": "markdown",
   "metadata": {
    "id": "yP8zg6Dfue3_"
   },
   "source": [
    "<a name='2-1-3'></a>\n",
    "#### 2.1.3.  Turn Off `state` and `age`"
   ]
  },
  {
   "cell_type": "code",
   "execution_count": 381,
   "metadata": {
    "colab": {
     "base_uri": "https://localhost:8080/"
    },
    "executionInfo": {
     "elapsed": 45261,
     "status": "ok",
     "timestamp": 1636094410814,
     "user": {
      "displayName": "Josh Jiayang Hu",
      "photoUrl": "https://lh3.googleusercontent.com/a-/AOh14Ghd2PGxhU80wKHJ-xmsZpi1lO89h65lKI9rQggTig=s64",
      "userId": "07935646948219834727"
     },
     "user_tz": 240
    },
    "id": "tzkTPV5Vun-T",
    "outputId": "4396e5fa-f5da-4cac-d984-0456912c6451"
   },
   "outputs": [
    {
     "name": "stderr",
     "output_type": "stream",
     "text": [
      "/usr/local/lib/python3.7/dist-packages/sklearn/linear_model/_sag.py:354: ConvergenceWarning: The max_iter was reached which means the coef_ did not converge\n",
      "  ConvergenceWarning,\n"
     ]
    },
    {
     "name": "stdout",
     "output_type": "stream",
     "text": [
      "training score 0.9487851805084607\n",
      "testing score 0.9491009286661904\n"
     ]
    }
   ],
   "source": [
    "column_transformer_no_state_age = ColumnTransformer([\n",
    "    ('categorical', OneHotEncoder(), categorical_columns_no_state),\n",
    "    ('numerical', MinMaxScaler(), numerical_columns_no_age)\n",
    "])\n",
    "# keep C=3, l1_ratio=1 from the first section\n",
    "model_213_no_state_age = Pipeline([\n",
    "    ('column_transformer', column_transformer_no_state_age),\n",
    "    ('regressor', LogisticRegression(\n",
    "        C=3,\n",
    "        l1_ratio=1,\n",
    "        solver='saga',\n",
    "        penalty='elasticnet',\n",
    "        n_jobs=-1,\n",
    "        random_state=42))\n",
    "])\n",
    "model_213_no_state_age.fit(X2_train, y2_train)\n",
    "print('training score', model_213_no_state_age.score(X2_train, y2_train))\n",
    "print('testing score', model_213_no_state_age.score(X2_test, y2_test))"
   ]
  },
  {
   "cell_type": "code",
   "execution_count": 407,
   "metadata": {
    "executionInfo": {
     "elapsed": 150,
     "status": "ok",
     "timestamp": 1636095754090,
     "user": {
      "displayName": "Josh Jiayang Hu",
      "photoUrl": "https://lh3.googleusercontent.com/a-/AOh14Ghd2PGxhU80wKHJ-xmsZpi1lO89h65lKI9rQggTig=s64",
      "userId": "07935646948219834727"
     },
     "user_tz": 240
    },
    "id": "EYjd5Heb56R2"
   },
   "outputs": [],
   "source": [
    "# with open(folder+'model_213_no_state_age.pickle', 'wb') as f213:\n",
    "#     dill.dump(model_213_no_state_age, f213)"
   ]
  },
  {
   "cell_type": "code",
   "execution_count": 13,
   "metadata": {
    "executionInfo": {
     "elapsed": 395,
     "status": "ok",
     "timestamp": 1636138993313,
     "user": {
      "displayName": "Josh Jiayang Hu",
      "photoUrl": "https://lh3.googleusercontent.com/a-/AOh14Ghd2PGxhU80wKHJ-xmsZpi1lO89h65lKI9rQggTig=s64",
      "userId": "07935646948219834727"
     },
     "user_tz": 240
    },
    "id": "zdB5_BttezNB"
   },
   "outputs": [],
   "source": [
    "# with open(folder+'model_213_no_state_age.pickle', 'rb') as f213:\n",
    "#     model_213_no_state_age = dill.load(f213)"
   ]
  },
  {
   "cell_type": "code",
   "execution_count": 35,
   "metadata": {
    "executionInfo": {
     "elapsed": 3086,
     "status": "ok",
     "timestamp": 1636139775342,
     "user": {
      "displayName": "Josh Jiayang Hu",
      "photoUrl": "https://lh3.googleusercontent.com/a-/AOh14Ghd2PGxhU80wKHJ-xmsZpi1lO89h65lKI9rQggTig=s64",
      "userId": "07935646948219834727"
     },
     "user_tz": 240
    },
    "id": "szEr040nezDz"
   },
   "outputs": [],
   "source": [
    "data = {'anon_person_id': df2.anon_person_id.values, \n",
    "        'target': df2.target.values, \n",
    "        'predict': model_213_no_state_age.predict(df2.drop(columns=['target'])),\n",
    "        'probability': model_213_no_state_age.predict_proba(df2.drop(columns=['target'])).max(axis=1)}\n",
    "final_model_score = pd.DataFrame(data, \n",
    "                                 columns=['anon_person_id', 'target', \n",
    "                                          'predict', 'probability'])"
   ]
  },
  {
   "cell_type": "code",
   "execution_count": 41,
   "metadata": {
    "executionInfo": {
     "elapsed": 3990,
     "status": "ok",
     "timestamp": 1636139988951,
     "user": {
      "displayName": "Josh Jiayang Hu",
      "photoUrl": "https://lh3.googleusercontent.com/a-/AOh14Ghd2PGxhU80wKHJ-xmsZpi1lO89h65lKI9rQggTig=s64",
      "userId": "07935646948219834727"
     },
     "user_tz": 240
    },
    "id": "GOKPOhsVfdhc"
   },
   "outputs": [],
   "source": [
    "final_model_score.to_csv(folder+'Score.csv')"
   ]
  },
  {
   "cell_type": "code",
   "execution_count": 401,
   "metadata": {
    "colab": {
     "base_uri": "https://localhost:8080/",
     "height": 793
    },
    "executionInfo": {
     "elapsed": 250,
     "status": "ok",
     "timestamp": 1636095516104,
     "user": {
      "displayName": "Josh Jiayang Hu",
      "photoUrl": "https://lh3.googleusercontent.com/a-/AOh14Ghd2PGxhU80wKHJ-xmsZpi1lO89h65lKI9rQggTig=s64",
      "userId": "07935646948219834727"
     },
     "user_tz": 240
    },
    "id": "SPTh26Ib5A9o",
    "outputId": "bba62adb-3b11-449b-987b-4bc0006e55ff"
   },
   "outputs": [
    {
     "data": {
      "text/html": [
       "<div>\n",
       "<style scoped>\n",
       "    .dataframe tbody tr th:only-of-type {\n",
       "        vertical-align: middle;\n",
       "    }\n",
       "\n",
       "    .dataframe tbody tr th {\n",
       "        vertical-align: top;\n",
       "    }\n",
       "\n",
       "    .dataframe thead th {\n",
       "        text-align: right;\n",
       "    }\n",
       "</style>\n",
       "<table border=\"1\" class=\"dataframe\">\n",
       "  <thead>\n",
       "    <tr style=\"text-align: right;\">\n",
       "      <th></th>\n",
       "      <th>feature_category</th>\n",
       "      <th>feature_importance</th>\n",
       "    </tr>\n",
       "  </thead>\n",
       "  <tbody>\n",
       "    <tr>\n",
       "      <th>0</th>\n",
       "      <td>presence_of_child_ind_0</td>\n",
       "      <td>-3.734562</td>\n",
       "    </tr>\n",
       "    <tr>\n",
       "      <th>1</th>\n",
       "      <td>presence_of_child_ind_1</td>\n",
       "      <td>3.043066</td>\n",
       "    </tr>\n",
       "    <tr>\n",
       "      <th>2</th>\n",
       "      <td>streaming_media_subs_N</td>\n",
       "      <td>-0.985703</td>\n",
       "    </tr>\n",
       "    <tr>\n",
       "      <th>3</th>\n",
       "      <td>streaming_media_subs_Y</td>\n",
       "      <td>0.296803</td>\n",
       "    </tr>\n",
       "    <tr>\n",
       "      <th>4</th>\n",
       "      <td>streaming_entertainment_subs_0</td>\n",
       "      <td>-0.985703</td>\n",
       "    </tr>\n",
       "    <tr>\n",
       "      <th>5</th>\n",
       "      <td>streaming_entertainment_subs_1</td>\n",
       "      <td>0.296803</td>\n",
       "    </tr>\n",
       "    <tr>\n",
       "      <th>6</th>\n",
       "      <td>marital_status_M</td>\n",
       "      <td>0.000000</td>\n",
       "    </tr>\n",
       "    <tr>\n",
       "      <th>7</th>\n",
       "      <td>marital_status_S</td>\n",
       "      <td>1.536612</td>\n",
       "    </tr>\n",
       "    <tr>\n",
       "      <th>8</th>\n",
       "      <td>marital_status_U</td>\n",
       "      <td>-1.537005</td>\n",
       "    </tr>\n",
       "    <tr>\n",
       "      <th>9</th>\n",
       "      <td>gender_Female</td>\n",
       "      <td>0.630450</td>\n",
       "    </tr>\n",
       "    <tr>\n",
       "      <th>10</th>\n",
       "      <td>gender_Male</td>\n",
       "      <td>-1.321701</td>\n",
       "    </tr>\n",
       "    <tr>\n",
       "      <th>11</th>\n",
       "      <td>income_$100k-124k</td>\n",
       "      <td>-3.577537</td>\n",
       "    </tr>\n",
       "    <tr>\n",
       "      <th>12</th>\n",
       "      <td>income_$125k-149k</td>\n",
       "      <td>-4.215358</td>\n",
       "    </tr>\n",
       "    <tr>\n",
       "      <th>13</th>\n",
       "      <td>income_$150k-174k</td>\n",
       "      <td>3.994005</td>\n",
       "    </tr>\n",
       "    <tr>\n",
       "      <th>14</th>\n",
       "      <td>income_$175k-199k</td>\n",
       "      <td>3.538958</td>\n",
       "    </tr>\n",
       "    <tr>\n",
       "      <th>15</th>\n",
       "      <td>income_$200k-224k</td>\n",
       "      <td>2.709969</td>\n",
       "    </tr>\n",
       "    <tr>\n",
       "      <th>16</th>\n",
       "      <td>income_$225k-249k</td>\n",
       "      <td>1.842327</td>\n",
       "    </tr>\n",
       "    <tr>\n",
       "      <th>17</th>\n",
       "      <td>income_$250k+</td>\n",
       "      <td>0.933652</td>\n",
       "    </tr>\n",
       "    <tr>\n",
       "      <th>18</th>\n",
       "      <td>income_$25k-49k</td>\n",
       "      <td>-0.762545</td>\n",
       "    </tr>\n",
       "    <tr>\n",
       "      <th>19</th>\n",
       "      <td>income_$50k-74k</td>\n",
       "      <td>-1.753740</td>\n",
       "    </tr>\n",
       "    <tr>\n",
       "      <th>20</th>\n",
       "      <td>income_$75k-99k</td>\n",
       "      <td>-2.619760</td>\n",
       "    </tr>\n",
       "    <tr>\n",
       "      <th>21</th>\n",
       "      <td>income_&lt;$25k</td>\n",
       "      <td>-1.425580</td>\n",
       "    </tr>\n",
       "    <tr>\n",
       "      <th>22</th>\n",
       "      <td>income_U</td>\n",
       "      <td>0.481277</td>\n",
       "    </tr>\n",
       "    <tr>\n",
       "      <th>23</th>\n",
       "      <td>number_of_news_subs</td>\n",
       "      <td>84.199667</td>\n",
       "    </tr>\n",
       "  </tbody>\n",
       "</table>\n",
       "</div>"
      ],
      "text/plain": [
       "                  feature_category  feature_importance\n",
       "0          presence_of_child_ind_0           -3.734562\n",
       "1          presence_of_child_ind_1            3.043066\n",
       "2           streaming_media_subs_N           -0.985703\n",
       "3           streaming_media_subs_Y            0.296803\n",
       "4   streaming_entertainment_subs_0           -0.985703\n",
       "5   streaming_entertainment_subs_1            0.296803\n",
       "6                 marital_status_M            0.000000\n",
       "7                 marital_status_S            1.536612\n",
       "8                 marital_status_U           -1.537005\n",
       "9                    gender_Female            0.630450\n",
       "10                     gender_Male           -1.321701\n",
       "11               income_$100k-124k           -3.577537\n",
       "12               income_$125k-149k           -4.215358\n",
       "13               income_$150k-174k            3.994005\n",
       "14               income_$175k-199k            3.538958\n",
       "15               income_$200k-224k            2.709969\n",
       "16               income_$225k-249k            1.842327\n",
       "17                   income_$250k+            0.933652\n",
       "18                 income_$25k-49k           -0.762545\n",
       "19                 income_$50k-74k           -1.753740\n",
       "20                 income_$75k-99k           -2.619760\n",
       "21                    income_<$25k           -1.425580\n",
       "22                        income_U            0.481277\n",
       "23             number_of_news_subs           84.199667"
      ]
     },
     "execution_count": 401,
     "metadata": {},
     "output_type": "execute_result"
    }
   ],
   "source": [
    "print_feature_importance(model_213_no_state_age, 'log')"
   ]
  },
  {
   "cell_type": "markdown",
   "metadata": {
    "id": "R9PQ77YRyHbG"
   },
   "source": [
    "Turning off `state` and/or `age` under the logistic regression doesn't make much difference."
   ]
  },
  {
   "cell_type": "markdown",
   "metadata": {
    "id": "vipiY9grvKe6"
   },
   "source": [
    "<a name='2-2'></a>\n",
    "### 2.2.  Estimating Model 2.2: Random Forest Regression"
   ]
  },
  {
   "cell_type": "markdown",
   "metadata": {
    "id": "Bkrb3cfrwJ0r"
   },
   "source": [
    "<a name='2-2-1'></a>\n",
    "#### 2.2.1.  Turn Off `state`"
   ]
  },
  {
   "cell_type": "code",
   "execution_count": 376,
   "metadata": {
    "colab": {
     "base_uri": "https://localhost:8080/"
    },
    "executionInfo": {
     "elapsed": 189959,
     "status": "ok",
     "timestamp": 1636093703274,
     "user": {
      "displayName": "Josh Jiayang Hu",
      "photoUrl": "https://lh3.googleusercontent.com/a-/AOh14Ghd2PGxhU80wKHJ-xmsZpi1lO89h65lKI9rQggTig=s64",
      "userId": "07935646948219834727"
     },
     "user_tz": 240
    },
    "id": "ykFnqZSHwKOS",
    "outputId": "fe343826-2d33-4beb-af8b-14bfa03b9de4"
   },
   "outputs": [
    {
     "name": "stdout",
     "output_type": "stream",
     "text": [
      "training score 0.962541704992625\n",
      "testing score 0.962245127053781\n"
     ]
    }
   ],
   "source": [
    "# Keep the best parameters of (max_depth=300, n_estimators=300) from Section 1\n",
    "model_221_no_state = Pipeline([\n",
    "    ('column_transformer', column_transformer_no_state),\n",
    "    ('regressor', RandomForestClassifier(\n",
    "        max_depth=300, \n",
    "        n_estimators=300,\n",
    "        n_jobs=-1,\n",
    "        random_state=42))\n",
    "])\n",
    "model_221_no_state.fit(X2_train, y2_train)\n",
    "print('training score', model_221_no_state.score(X2_train, y2_train))\n",
    "print('testing score', model_221_no_state.score(X2_test, y2_test))"
   ]
  },
  {
   "cell_type": "code",
   "execution_count": 408,
   "metadata": {
    "executionInfo": {
     "elapsed": 741,
     "status": "ok",
     "timestamp": 1636095781127,
     "user": {
      "displayName": "Josh Jiayang Hu",
      "photoUrl": "https://lh3.googleusercontent.com/a-/AOh14Ghd2PGxhU80wKHJ-xmsZpi1lO89h65lKI9rQggTig=s64",
      "userId": "07935646948219834727"
     },
     "user_tz": 240
    },
    "id": "cnlKWb5_6C_R"
   },
   "outputs": [],
   "source": [
    "# with open(folder+'model_221_no_state.pickle', 'wb') as f221:\n",
    "#     dill.dump(model_221_no_state, f221)"
   ]
  },
  {
   "cell_type": "code",
   "execution_count": 402,
   "metadata": {
    "colab": {
     "base_uri": "https://localhost:8080/",
     "height": 824
    },
    "executionInfo": {
     "elapsed": 257,
     "status": "ok",
     "timestamp": 1636095546451,
     "user": {
      "displayName": "Josh Jiayang Hu",
      "photoUrl": "https://lh3.googleusercontent.com/a-/AOh14Ghd2PGxhU80wKHJ-xmsZpi1lO89h65lKI9rQggTig=s64",
      "userId": "07935646948219834727"
     },
     "user_tz": 240
    },
    "id": "3mjDWxZp5Hkv",
    "outputId": "59470233-40d9-45a3-a61e-71344baef0b5"
   },
   "outputs": [
    {
     "data": {
      "text/html": [
       "<div>\n",
       "<style scoped>\n",
       "    .dataframe tbody tr th:only-of-type {\n",
       "        vertical-align: middle;\n",
       "    }\n",
       "\n",
       "    .dataframe tbody tr th {\n",
       "        vertical-align: top;\n",
       "    }\n",
       "\n",
       "    .dataframe thead th {\n",
       "        text-align: right;\n",
       "    }\n",
       "</style>\n",
       "<table border=\"1\" class=\"dataframe\">\n",
       "  <thead>\n",
       "    <tr style=\"text-align: right;\">\n",
       "      <th></th>\n",
       "      <th>feature_category</th>\n",
       "      <th>feature_importance</th>\n",
       "    </tr>\n",
       "  </thead>\n",
       "  <tbody>\n",
       "    <tr>\n",
       "      <th>0</th>\n",
       "      <td>presence_of_child_ind_0</td>\n",
       "      <td>0.084593</td>\n",
       "    </tr>\n",
       "    <tr>\n",
       "      <th>1</th>\n",
       "      <td>presence_of_child_ind_1</td>\n",
       "      <td>0.070211</td>\n",
       "    </tr>\n",
       "    <tr>\n",
       "      <th>2</th>\n",
       "      <td>streaming_media_subs_N</td>\n",
       "      <td>0.047115</td>\n",
       "    </tr>\n",
       "    <tr>\n",
       "      <th>3</th>\n",
       "      <td>streaming_media_subs_Y</td>\n",
       "      <td>0.044560</td>\n",
       "    </tr>\n",
       "    <tr>\n",
       "      <th>4</th>\n",
       "      <td>streaming_entertainment_subs_0</td>\n",
       "      <td>0.040140</td>\n",
       "    </tr>\n",
       "    <tr>\n",
       "      <th>5</th>\n",
       "      <td>streaming_entertainment_subs_1</td>\n",
       "      <td>0.044992</td>\n",
       "    </tr>\n",
       "    <tr>\n",
       "      <th>6</th>\n",
       "      <td>marital_status_M</td>\n",
       "      <td>0.013125</td>\n",
       "    </tr>\n",
       "    <tr>\n",
       "      <th>7</th>\n",
       "      <td>marital_status_S</td>\n",
       "      <td>0.025797</td>\n",
       "    </tr>\n",
       "    <tr>\n",
       "      <th>8</th>\n",
       "      <td>marital_status_U</td>\n",
       "      <td>0.040548</td>\n",
       "    </tr>\n",
       "    <tr>\n",
       "      <th>9</th>\n",
       "      <td>gender_Female</td>\n",
       "      <td>0.039418</td>\n",
       "    </tr>\n",
       "    <tr>\n",
       "      <th>10</th>\n",
       "      <td>gender_Male</td>\n",
       "      <td>0.035424</td>\n",
       "    </tr>\n",
       "    <tr>\n",
       "      <th>11</th>\n",
       "      <td>income_$100k-124k</td>\n",
       "      <td>0.003108</td>\n",
       "    </tr>\n",
       "    <tr>\n",
       "      <th>12</th>\n",
       "      <td>income_$125k-149k</td>\n",
       "      <td>0.004668</td>\n",
       "    </tr>\n",
       "    <tr>\n",
       "      <th>13</th>\n",
       "      <td>income_$150k-174k</td>\n",
       "      <td>0.015111</td>\n",
       "    </tr>\n",
       "    <tr>\n",
       "      <th>14</th>\n",
       "      <td>income_$175k-199k</td>\n",
       "      <td>0.005830</td>\n",
       "    </tr>\n",
       "    <tr>\n",
       "      <th>15</th>\n",
       "      <td>income_$200k-224k</td>\n",
       "      <td>0.003016</td>\n",
       "    </tr>\n",
       "    <tr>\n",
       "      <th>16</th>\n",
       "      <td>income_$225k-249k</td>\n",
       "      <td>0.006571</td>\n",
       "    </tr>\n",
       "    <tr>\n",
       "      <th>17</th>\n",
       "      <td>income_$250k+</td>\n",
       "      <td>0.005274</td>\n",
       "    </tr>\n",
       "    <tr>\n",
       "      <th>18</th>\n",
       "      <td>income_$25k-49k</td>\n",
       "      <td>0.000165</td>\n",
       "    </tr>\n",
       "    <tr>\n",
       "      <th>19</th>\n",
       "      <td>income_$50k-74k</td>\n",
       "      <td>0.000755</td>\n",
       "    </tr>\n",
       "    <tr>\n",
       "      <th>20</th>\n",
       "      <td>income_$75k-99k</td>\n",
       "      <td>0.002334</td>\n",
       "    </tr>\n",
       "    <tr>\n",
       "      <th>21</th>\n",
       "      <td>income_&lt;$25k</td>\n",
       "      <td>0.000007</td>\n",
       "    </tr>\n",
       "    <tr>\n",
       "      <th>22</th>\n",
       "      <td>income_U</td>\n",
       "      <td>0.001154</td>\n",
       "    </tr>\n",
       "    <tr>\n",
       "      <th>23</th>\n",
       "      <td>number_of_news_subs</td>\n",
       "      <td>0.334286</td>\n",
       "    </tr>\n",
       "    <tr>\n",
       "      <th>24</th>\n",
       "      <td>age</td>\n",
       "      <td>0.131799</td>\n",
       "    </tr>\n",
       "  </tbody>\n",
       "</table>\n",
       "</div>"
      ],
      "text/plain": [
       "                  feature_category  feature_importance\n",
       "0          presence_of_child_ind_0            0.084593\n",
       "1          presence_of_child_ind_1            0.070211\n",
       "2           streaming_media_subs_N            0.047115\n",
       "3           streaming_media_subs_Y            0.044560\n",
       "4   streaming_entertainment_subs_0            0.040140\n",
       "5   streaming_entertainment_subs_1            0.044992\n",
       "6                 marital_status_M            0.013125\n",
       "7                 marital_status_S            0.025797\n",
       "8                 marital_status_U            0.040548\n",
       "9                    gender_Female            0.039418\n",
       "10                     gender_Male            0.035424\n",
       "11               income_$100k-124k            0.003108\n",
       "12               income_$125k-149k            0.004668\n",
       "13               income_$150k-174k            0.015111\n",
       "14               income_$175k-199k            0.005830\n",
       "15               income_$200k-224k            0.003016\n",
       "16               income_$225k-249k            0.006571\n",
       "17                   income_$250k+            0.005274\n",
       "18                 income_$25k-49k            0.000165\n",
       "19                 income_$50k-74k            0.000755\n",
       "20                 income_$75k-99k            0.002334\n",
       "21                    income_<$25k            0.000007\n",
       "22                        income_U            0.001154\n",
       "23             number_of_news_subs            0.334286\n",
       "24                             age            0.131799"
      ]
     },
     "execution_count": 402,
     "metadata": {},
     "output_type": "execute_result"
    }
   ],
   "source": [
    "print_feature_importance(model_221_no_state, 'rfc')"
   ]
  },
  {
   "cell_type": "markdown",
   "metadata": {
    "id": "lEM1rV4RxiNI"
   },
   "source": [
    "<a name='2-2-2'></a>\n",
    "#### 2.2.2.  Turn Off `age`"
   ]
  },
  {
   "cell_type": "code",
   "execution_count": 377,
   "metadata": {
    "colab": {
     "base_uri": "https://localhost:8080/"
    },
    "executionInfo": {
     "elapsed": 321121,
     "status": "ok",
     "timestamp": 1636094024920,
     "user": {
      "displayName": "Josh Jiayang Hu",
      "photoUrl": "https://lh3.googleusercontent.com/a-/AOh14Ghd2PGxhU80wKHJ-xmsZpi1lO89h65lKI9rQggTig=s64",
      "userId": "07935646948219834727"
     },
     "user_tz": 240
    },
    "id": "lj2GFpH5xZ01",
    "outputId": "4152273e-3a39-45bf-efa1-04281d95f5d5"
   },
   "outputs": [
    {
     "name": "stdout",
     "output_type": "stream",
     "text": [
      "training score 0.948960708862413\n",
      "testing score 0.9492723747321156\n"
     ]
    }
   ],
   "source": [
    "model_222_no_age = Pipeline([\n",
    "    ('column_transformer', column_transformer_no_age),\n",
    "    ('regressor', RandomForestClassifier(\n",
    "        max_depth=300, \n",
    "        n_estimators=300,\n",
    "        n_jobs=-1,\n",
    "        random_state=42))\n",
    "])\n",
    "model_222_no_age.fit(X2_train, y2_train)\n",
    "print('training score', model_222_no_age.score(X2_train, y2_train))\n",
    "print('testing score', model_222_no_age.score(X2_test, y2_test))"
   ]
  },
  {
   "cell_type": "code",
   "execution_count": 409,
   "metadata": {
    "executionInfo": {
     "elapsed": 185,
     "status": "ok",
     "timestamp": 1636095805297,
     "user": {
      "displayName": "Josh Jiayang Hu",
      "photoUrl": "https://lh3.googleusercontent.com/a-/AOh14Ghd2PGxhU80wKHJ-xmsZpi1lO89h65lKI9rQggTig=s64",
      "userId": "07935646948219834727"
     },
     "user_tz": 240
    },
    "id": "lI_zGopG6IBk"
   },
   "outputs": [],
   "source": [
    "# with open(folder+'model_222_no_age.pickle', 'wb') as f222:\n",
    "#     dill.dump(model_222_no_age, f222)"
   ]
  },
  {
   "cell_type": "code",
   "execution_count": 403,
   "metadata": {
    "colab": {
     "base_uri": "https://localhost:8080/",
     "height": 917
    },
    "executionInfo": {
     "elapsed": 227,
     "status": "ok",
     "timestamp": 1636095568090,
     "user": {
      "displayName": "Josh Jiayang Hu",
      "photoUrl": "https://lh3.googleusercontent.com/a-/AOh14Ghd2PGxhU80wKHJ-xmsZpi1lO89h65lKI9rQggTig=s64",
      "userId": "07935646948219834727"
     },
     "user_tz": 240
    },
    "id": "Jm_kLvLp5Q9S",
    "outputId": "eee6fc4d-c835-4dc8-ada8-fafb6850aba1"
   },
   "outputs": [
    {
     "data": {
      "text/html": [
       "<div>\n",
       "<style scoped>\n",
       "    .dataframe tbody tr th:only-of-type {\n",
       "        vertical-align: middle;\n",
       "    }\n",
       "\n",
       "    .dataframe tbody tr th {\n",
       "        vertical-align: top;\n",
       "    }\n",
       "\n",
       "    .dataframe thead th {\n",
       "        text-align: right;\n",
       "    }\n",
       "</style>\n",
       "<table border=\"1\" class=\"dataframe\">\n",
       "  <thead>\n",
       "    <tr style=\"text-align: right;\">\n",
       "      <th></th>\n",
       "      <th>feature_category</th>\n",
       "      <th>feature_importance</th>\n",
       "    </tr>\n",
       "  </thead>\n",
       "  <tbody>\n",
       "    <tr>\n",
       "      <th>0</th>\n",
       "      <td>state_CA</td>\n",
       "      <td>0.000790</td>\n",
       "    </tr>\n",
       "    <tr>\n",
       "      <th>1</th>\n",
       "      <td>state_DC</td>\n",
       "      <td>0.000126</td>\n",
       "    </tr>\n",
       "    <tr>\n",
       "      <th>2</th>\n",
       "      <td>state_GA</td>\n",
       "      <td>0.000261</td>\n",
       "    </tr>\n",
       "    <tr>\n",
       "      <th>3</th>\n",
       "      <td>state_nan</td>\n",
       "      <td>0.000491</td>\n",
       "    </tr>\n",
       "    <tr>\n",
       "      <th>4</th>\n",
       "      <td>presence_of_child_ind_0</td>\n",
       "      <td>0.084543</td>\n",
       "    </tr>\n",
       "    <tr>\n",
       "      <th>5</th>\n",
       "      <td>presence_of_child_ind_1</td>\n",
       "      <td>0.084974</td>\n",
       "    </tr>\n",
       "    <tr>\n",
       "      <th>6</th>\n",
       "      <td>streaming_media_subs_N</td>\n",
       "      <td>0.059549</td>\n",
       "    </tr>\n",
       "    <tr>\n",
       "      <th>7</th>\n",
       "      <td>streaming_media_subs_Y</td>\n",
       "      <td>0.044871</td>\n",
       "    </tr>\n",
       "    <tr>\n",
       "      <th>8</th>\n",
       "      <td>streaming_entertainment_subs_0</td>\n",
       "      <td>0.045230</td>\n",
       "    </tr>\n",
       "    <tr>\n",
       "      <th>9</th>\n",
       "      <td>streaming_entertainment_subs_1</td>\n",
       "      <td>0.061544</td>\n",
       "    </tr>\n",
       "    <tr>\n",
       "      <th>10</th>\n",
       "      <td>marital_status_M</td>\n",
       "      <td>0.017462</td>\n",
       "    </tr>\n",
       "    <tr>\n",
       "      <th>11</th>\n",
       "      <td>marital_status_S</td>\n",
       "      <td>0.032279</td>\n",
       "    </tr>\n",
       "    <tr>\n",
       "      <th>12</th>\n",
       "      <td>marital_status_U</td>\n",
       "      <td>0.044418</td>\n",
       "    </tr>\n",
       "    <tr>\n",
       "      <th>13</th>\n",
       "      <td>gender_Female</td>\n",
       "      <td>0.045258</td>\n",
       "    </tr>\n",
       "    <tr>\n",
       "      <th>14</th>\n",
       "      <td>gender_Male</td>\n",
       "      <td>0.039856</td>\n",
       "    </tr>\n",
       "    <tr>\n",
       "      <th>15</th>\n",
       "      <td>income_$100k-124k</td>\n",
       "      <td>0.008381</td>\n",
       "    </tr>\n",
       "    <tr>\n",
       "      <th>16</th>\n",
       "      <td>income_$125k-149k</td>\n",
       "      <td>0.006605</td>\n",
       "    </tr>\n",
       "    <tr>\n",
       "      <th>17</th>\n",
       "      <td>income_$150k-174k</td>\n",
       "      <td>0.017682</td>\n",
       "    </tr>\n",
       "    <tr>\n",
       "      <th>18</th>\n",
       "      <td>income_$175k-199k</td>\n",
       "      <td>0.006707</td>\n",
       "    </tr>\n",
       "    <tr>\n",
       "      <th>19</th>\n",
       "      <td>income_$200k-224k</td>\n",
       "      <td>0.004011</td>\n",
       "    </tr>\n",
       "    <tr>\n",
       "      <th>20</th>\n",
       "      <td>income_$225k-249k</td>\n",
       "      <td>0.008782</td>\n",
       "    </tr>\n",
       "    <tr>\n",
       "      <th>21</th>\n",
       "      <td>income_$250k+</td>\n",
       "      <td>0.006795</td>\n",
       "    </tr>\n",
       "    <tr>\n",
       "      <th>22</th>\n",
       "      <td>income_$25k-49k</td>\n",
       "      <td>0.000240</td>\n",
       "    </tr>\n",
       "    <tr>\n",
       "      <th>23</th>\n",
       "      <td>income_$50k-74k</td>\n",
       "      <td>0.001258</td>\n",
       "    </tr>\n",
       "    <tr>\n",
       "      <th>24</th>\n",
       "      <td>income_$75k-99k</td>\n",
       "      <td>0.003123</td>\n",
       "    </tr>\n",
       "    <tr>\n",
       "      <th>25</th>\n",
       "      <td>income_&lt;$25k</td>\n",
       "      <td>0.000011</td>\n",
       "    </tr>\n",
       "    <tr>\n",
       "      <th>26</th>\n",
       "      <td>income_U</td>\n",
       "      <td>0.001409</td>\n",
       "    </tr>\n",
       "    <tr>\n",
       "      <th>27</th>\n",
       "      <td>number_of_news_subs</td>\n",
       "      <td>0.373344</td>\n",
       "    </tr>\n",
       "  </tbody>\n",
       "</table>\n",
       "</div>"
      ],
      "text/plain": [
       "                  feature_category  feature_importance\n",
       "0                         state_CA            0.000790\n",
       "1                         state_DC            0.000126\n",
       "2                         state_GA            0.000261\n",
       "3                        state_nan            0.000491\n",
       "4          presence_of_child_ind_0            0.084543\n",
       "5          presence_of_child_ind_1            0.084974\n",
       "6           streaming_media_subs_N            0.059549\n",
       "7           streaming_media_subs_Y            0.044871\n",
       "8   streaming_entertainment_subs_0            0.045230\n",
       "9   streaming_entertainment_subs_1            0.061544\n",
       "10                marital_status_M            0.017462\n",
       "11                marital_status_S            0.032279\n",
       "12                marital_status_U            0.044418\n",
       "13                   gender_Female            0.045258\n",
       "14                     gender_Male            0.039856\n",
       "15               income_$100k-124k            0.008381\n",
       "16               income_$125k-149k            0.006605\n",
       "17               income_$150k-174k            0.017682\n",
       "18               income_$175k-199k            0.006707\n",
       "19               income_$200k-224k            0.004011\n",
       "20               income_$225k-249k            0.008782\n",
       "21                   income_$250k+            0.006795\n",
       "22                 income_$25k-49k            0.000240\n",
       "23                 income_$50k-74k            0.001258\n",
       "24                 income_$75k-99k            0.003123\n",
       "25                    income_<$25k            0.000011\n",
       "26                        income_U            0.001409\n",
       "27             number_of_news_subs            0.373344"
      ]
     },
     "execution_count": 403,
     "metadata": {},
     "output_type": "execute_result"
    }
   ],
   "source": [
    "print_feature_importance(model_222_no_age, 'rfc')"
   ]
  },
  {
   "cell_type": "markdown",
   "metadata": {
    "id": "2LZv6IWlxoht"
   },
   "source": [
    "<a name='2-2-3'></a>\n",
    "#### 2.2.3.  Turn Off `state` and `age`"
   ]
  },
  {
   "cell_type": "code",
   "execution_count": 378,
   "metadata": {
    "colab": {
     "base_uri": "https://localhost:8080/"
    },
    "executionInfo": {
     "elapsed": 239693,
     "status": "ok",
     "timestamp": 1636094264605,
     "user": {
      "displayName": "Josh Jiayang Hu",
      "photoUrl": "https://lh3.googleusercontent.com/a-/AOh14Ghd2PGxhU80wKHJ-xmsZpi1lO89h65lKI9rQggTig=s64",
      "userId": "07935646948219834727"
     },
     "user_tz": 240
    },
    "id": "6kRWRuD1x7Cd",
    "outputId": "7894d1d2-d2db-4ce5-9aa7-11c71747e1fc"
   },
   "outputs": [
    {
     "name": "stdout",
     "output_type": "stream",
     "text": [
      "training score 0.9488055907821761\n",
      "testing score 0.9491417491580774\n"
     ]
    }
   ],
   "source": [
    "model_223_no_state_age = Pipeline([\n",
    "    ('column_transformer', column_transformer_no_state_age),\n",
    "    ('regressor', RandomForestClassifier(\n",
    "        max_depth=300, \n",
    "        n_estimators=300,\n",
    "        n_jobs=-1,\n",
    "        random_state=42))\n",
    "])\n",
    "model_223_no_state_age.fit(X2_train, y2_train)\n",
    "print('training score', model_223_no_state_age.score(X2_train, y2_train))\n",
    "print('testing score', model_223_no_state_age.score(X2_test, y2_test))"
   ]
  },
  {
   "cell_type": "code",
   "execution_count": 410,
   "metadata": {
    "executionInfo": {
     "elapsed": 186,
     "status": "ok",
     "timestamp": 1636095853230,
     "user": {
      "displayName": "Josh Jiayang Hu",
      "photoUrl": "https://lh3.googleusercontent.com/a-/AOh14Ghd2PGxhU80wKHJ-xmsZpi1lO89h65lKI9rQggTig=s64",
      "userId": "07935646948219834727"
     },
     "user_tz": 240
    },
    "id": "a-Sdp7UA6QYH"
   },
   "outputs": [],
   "source": [
    "# with open(folder+'model_223_no_state_age.pickle', 'wb') as f223:\n",
    "#     dill.dump(model_223_no_state_age, f223)"
   ]
  },
  {
   "cell_type": "code",
   "execution_count": 6,
   "metadata": {
    "executionInfo": {
     "elapsed": 155,
     "status": "ok",
     "timestamp": 1636136253946,
     "user": {
      "displayName": "Josh Jiayang Hu",
      "photoUrl": "https://lh3.googleusercontent.com/a-/AOh14Ghd2PGxhU80wKHJ-xmsZpi1lO89h65lKI9rQggTig=s64",
      "userId": "07935646948219834727"
     },
     "user_tz": 240
    },
    "id": "b_4-xkaETwc-"
   },
   "outputs": [],
   "source": [
    "# with open(folder+'model_223_no_state_age.pickle', 'rb') as f223:\n",
    "#     model_223_no_state_age = dill.load(f223)"
   ]
  },
  {
   "cell_type": "code",
   "execution_count": 404,
   "metadata": {
    "colab": {
     "base_uri": "https://localhost:8080/",
     "height": 793
    },
    "executionInfo": {
     "elapsed": 207,
     "status": "ok",
     "timestamp": 1636095582359,
     "user": {
      "displayName": "Josh Jiayang Hu",
      "photoUrl": "https://lh3.googleusercontent.com/a-/AOh14Ghd2PGxhU80wKHJ-xmsZpi1lO89h65lKI9rQggTig=s64",
      "userId": "07935646948219834727"
     },
     "user_tz": 240
    },
    "id": "__8ZhTfY5ThT",
    "outputId": "1e63571b-cf4a-40fd-fa78-108543eb8c07"
   },
   "outputs": [
    {
     "data": {
      "text/html": [
       "<div>\n",
       "<style scoped>\n",
       "    .dataframe tbody tr th:only-of-type {\n",
       "        vertical-align: middle;\n",
       "    }\n",
       "\n",
       "    .dataframe tbody tr th {\n",
       "        vertical-align: top;\n",
       "    }\n",
       "\n",
       "    .dataframe thead th {\n",
       "        text-align: right;\n",
       "    }\n",
       "</style>\n",
       "<table border=\"1\" class=\"dataframe\">\n",
       "  <thead>\n",
       "    <tr style=\"text-align: right;\">\n",
       "      <th></th>\n",
       "      <th>feature_category</th>\n",
       "      <th>feature_importance</th>\n",
       "    </tr>\n",
       "  </thead>\n",
       "  <tbody>\n",
       "    <tr>\n",
       "      <th>0</th>\n",
       "      <td>presence_of_child_ind_0</td>\n",
       "      <td>0.091204</td>\n",
       "    </tr>\n",
       "    <tr>\n",
       "      <th>1</th>\n",
       "      <td>presence_of_child_ind_1</td>\n",
       "      <td>0.100242</td>\n",
       "    </tr>\n",
       "    <tr>\n",
       "      <th>2</th>\n",
       "      <td>streaming_media_subs_N</td>\n",
       "      <td>0.069279</td>\n",
       "    </tr>\n",
       "    <tr>\n",
       "      <th>3</th>\n",
       "      <td>streaming_media_subs_Y</td>\n",
       "      <td>0.049826</td>\n",
       "    </tr>\n",
       "    <tr>\n",
       "      <th>4</th>\n",
       "      <td>streaming_entertainment_subs_0</td>\n",
       "      <td>0.043851</td>\n",
       "    </tr>\n",
       "    <tr>\n",
       "      <th>5</th>\n",
       "      <td>streaming_entertainment_subs_1</td>\n",
       "      <td>0.055638</td>\n",
       "    </tr>\n",
       "    <tr>\n",
       "      <th>6</th>\n",
       "      <td>marital_status_M</td>\n",
       "      <td>0.017887</td>\n",
       "    </tr>\n",
       "    <tr>\n",
       "      <th>7</th>\n",
       "      <td>marital_status_S</td>\n",
       "      <td>0.033610</td>\n",
       "    </tr>\n",
       "    <tr>\n",
       "      <th>8</th>\n",
       "      <td>marital_status_U</td>\n",
       "      <td>0.047532</td>\n",
       "    </tr>\n",
       "    <tr>\n",
       "      <th>9</th>\n",
       "      <td>gender_Female</td>\n",
       "      <td>0.044514</td>\n",
       "    </tr>\n",
       "    <tr>\n",
       "      <th>10</th>\n",
       "      <td>gender_Male</td>\n",
       "      <td>0.045836</td>\n",
       "    </tr>\n",
       "    <tr>\n",
       "      <th>11</th>\n",
       "      <td>income_$100k-124k</td>\n",
       "      <td>0.006444</td>\n",
       "    </tr>\n",
       "    <tr>\n",
       "      <th>12</th>\n",
       "      <td>income_$125k-149k</td>\n",
       "      <td>0.007597</td>\n",
       "    </tr>\n",
       "    <tr>\n",
       "      <th>13</th>\n",
       "      <td>income_$150k-174k</td>\n",
       "      <td>0.018180</td>\n",
       "    </tr>\n",
       "    <tr>\n",
       "      <th>14</th>\n",
       "      <td>income_$175k-199k</td>\n",
       "      <td>0.006529</td>\n",
       "    </tr>\n",
       "    <tr>\n",
       "      <th>15</th>\n",
       "      <td>income_$200k-224k</td>\n",
       "      <td>0.004288</td>\n",
       "    </tr>\n",
       "    <tr>\n",
       "      <th>16</th>\n",
       "      <td>income_$225k-249k</td>\n",
       "      <td>0.009238</td>\n",
       "    </tr>\n",
       "    <tr>\n",
       "      <th>17</th>\n",
       "      <td>income_$250k+</td>\n",
       "      <td>0.006853</td>\n",
       "    </tr>\n",
       "    <tr>\n",
       "      <th>18</th>\n",
       "      <td>income_$25k-49k</td>\n",
       "      <td>0.000271</td>\n",
       "    </tr>\n",
       "    <tr>\n",
       "      <th>19</th>\n",
       "      <td>income_$50k-74k</td>\n",
       "      <td>0.001194</td>\n",
       "    </tr>\n",
       "    <tr>\n",
       "      <th>20</th>\n",
       "      <td>income_$75k-99k</td>\n",
       "      <td>0.004390</td>\n",
       "    </tr>\n",
       "    <tr>\n",
       "      <th>21</th>\n",
       "      <td>income_&lt;$25k</td>\n",
       "      <td>0.000018</td>\n",
       "    </tr>\n",
       "    <tr>\n",
       "      <th>22</th>\n",
       "      <td>income_U</td>\n",
       "      <td>0.001416</td>\n",
       "    </tr>\n",
       "    <tr>\n",
       "      <th>23</th>\n",
       "      <td>number_of_news_subs</td>\n",
       "      <td>0.334164</td>\n",
       "    </tr>\n",
       "  </tbody>\n",
       "</table>\n",
       "</div>"
      ],
      "text/plain": [
       "                  feature_category  feature_importance\n",
       "0          presence_of_child_ind_0            0.091204\n",
       "1          presence_of_child_ind_1            0.100242\n",
       "2           streaming_media_subs_N            0.069279\n",
       "3           streaming_media_subs_Y            0.049826\n",
       "4   streaming_entertainment_subs_0            0.043851\n",
       "5   streaming_entertainment_subs_1            0.055638\n",
       "6                 marital_status_M            0.017887\n",
       "7                 marital_status_S            0.033610\n",
       "8                 marital_status_U            0.047532\n",
       "9                    gender_Female            0.044514\n",
       "10                     gender_Male            0.045836\n",
       "11               income_$100k-124k            0.006444\n",
       "12               income_$125k-149k            0.007597\n",
       "13               income_$150k-174k            0.018180\n",
       "14               income_$175k-199k            0.006529\n",
       "15               income_$200k-224k            0.004288\n",
       "16               income_$225k-249k            0.009238\n",
       "17                   income_$250k+            0.006853\n",
       "18                 income_$25k-49k            0.000271\n",
       "19                 income_$50k-74k            0.001194\n",
       "20                 income_$75k-99k            0.004390\n",
       "21                    income_<$25k            0.000018\n",
       "22                        income_U            0.001416\n",
       "23             number_of_news_subs            0.334164"
      ]
     },
     "execution_count": 404,
     "metadata": {},
     "output_type": "execute_result"
    }
   ],
   "source": [
    "print_feature_importance(model_223_no_state_age, 'rfc')"
   ]
  },
  {
   "cell_type": "markdown",
   "metadata": {
    "id": "hHuxiBNV1-oP"
   },
   "source": [
    "<a name='3'></a>\n",
    "## 3.  Model Analysis\n",
    "\n",
    "This section talks about *which model to choose* and *what prospects to expect for the business*."
   ]
  },
  {
   "cell_type": "markdown",
   "metadata": {
    "id": "iLQ_WZ7G1-ZB"
   },
   "source": [
    "<a name='3-0'></a>\n",
    "### 3.0.  Model Choosing\n",
    "\n",
    "\n",
    "- Both of the logistic regression and the random forest classifier works pretty well, and simlilarly result/score-wise. They both give ~95% of mean accuracies for both training data and test data, for both original data and the revised data structure (e.g. turning off certain features).\n",
    "\n",
    "- For business model or for marketing team, it would be better to ***choose logistic regression***, because a logsitic regression model is usually more interpretable than a *random forest model*, by simply looking into the weight (coefficicents of a *logistic regression*) of each feature. Even we can look at the feature importances of a *random forest model* (the mean reduction of impurity (gini here)) of each feature, though it's harder to interpret the meaning behind the feature importances (e.g. a more important feature to avoid or include). But the feature importances of a *random forest model* would still be a good reference for business purposes.\n",
    "\n",
    "- Both of the linear regression models (L1 and L2) should be abandoned, due to the poor performance."
   ]
  },
  {
   "cell_type": "markdown",
   "metadata": {
    "id": "QbdzV5jk1-Ud"
   },
   "source": [
    "<a name='3-1'></a>\n",
    "### 3.1.  Feature Analysis (based on the printed feature importances)\n",
    "\n",
    "- With or without `state` feature, the scores of models and the weights/importances of features don't change much. This is basically because of its strong bias. Since, CA is ~99% of the case, and there are only 3 states, it may be a good option to turn it off. But as mentioned before, the audience behavior here mainly refelect CA audience and potentially introduces other demographic bias (e.g. race, education, political leaning, etc.)\n",
    "\n",
    "- `age` feature has simily effect as `state`. It doesn't make much difference. Due to the controversy of this feature (28% of age 45, way higher than other age percentage; hard to say it's a mistake or not), it may be a good idea to simply turn it off. The reason that turning off doesn't make much change may be that this feature is corelated with another features (e.g. income, marital status, presence of child).\n",
    "\n",
    "- As mentioned above, there are three other ways to handle this `age` feature based on the assumption that we need the information here: under-sample, over-sample, sample-weighting.\n",
    "\n",
    "- The random forest model suggests the importance (in a slightly declining order here) of features `presence_of_child_ind`, `streaming_media_subs` and `streaming_entertainment_subs`. And the logistic regression model suggests people with children (mild, ~ 0.1 gini drop), subscribing media/entertainment (weak, ~ 0.05 gini drop) will likely to be the targets. And people with no children (mild, ~ 0.1 gini drop), subscribing no media/entertainment (weak ~ 0.05 gini drop) will likely not to be the targets. So, PodNN may want to target (marketing-wise or content-wise) on people with children.\n",
    "\n",
    "- `streaming_media_subs` and `streaming_entertainment_subs` may be corelated, depending on their definitions and the coefficients the logistic model learns. \n",
    "\n",
    "- `marital_status` has a mild (~ 0.02 - 0.05 gini drop) effect. Married people has no effect on the decision. PodNN may not want to waste resource on married people. While they may be interested in single people (~ 1.5 coef), and want to avoid those whose marital status the business does't/can't know (~ 1.5 coef).\n",
    "\n",
    "- The model also suggests females are more likely to become podcast targets while males are more likely to be non-targets.\n",
    "\n",
    "- **But `gender` feature is sensitive**, special caution is needed to use this feature, due to the ethical risks of being considered sexism. \n",
    "\n",
    "- From the `income` feature, people with income lower than \\$150k are more likely to become non-targets, especially those with income between \\$100k - \\$150k. While PodNN may want to target on people with income more than \\$150k (e.g. more lexury products commercials)\n",
    "\n",
    "- ***The most important feature is `number_of_news_subs`***. It strongly effects the result as suggested by both the gini drop and the coefficient. People with news subscriptions are very likely to become targets (listening to podcasts). This can suggest things like more news content in the future PodNN, or more PodNN commercials on other news media. But, it also depends on what genre PodNN is about and what this data set exactly means. The information from this data set may or may not have a strong guidance meaning.\n",
    "\n",
    "- For some (potential) imbalenced features in this data set, besides the turn-on/off method, another way to check the effect of the (potential) imbalenced feature is the so called permutation feature importance tech. Basically, it shuffles the feature column, breaking the relationship between the feature and the target, and uses the drop of model score as the measurement of feature importance."
   ]
  },
  {
   "cell_type": "markdown",
   "metadata": {
    "id": "GDLGsqZjIHVc"
   },
   "source": [
    "<a name='4'></a>\n",
    "## 4.  Conclusion\n",
    "\n",
    "\n",
    "- Choose the logistic regression model, with `state` and `age` featurn turned off.\n",
    "\n",
    "- Pay more attention (strategically, content-wise, marketing-wise, etc) to people with children, with media/entertainment subsciptions, single, with rich income, especially with news subscriptions."
   ]
  }
 ],
 "metadata": {
  "colab": {
   "authorship_tag": "ABX9TyNE0AWgYMQB3H6F+s4pSxuQ",
   "collapsed_sections": [
    "SPtm4payUlDR"
   ],
   "mount_file_id": "1ZzO2LIPaI5dpvSAoA9wQN-c1SycUc3Py",
   "name": "CNN_assignment.ipynb",
   "provenance": []
  },
  "kernelspec": {
   "display_name": "Python 3",
   "language": "python",
   "name": "python3"
  },
  "language_info": {
   "codemirror_mode": {
    "name": "ipython",
    "version": 3
   },
   "file_extension": ".py",
   "mimetype": "text/x-python",
   "name": "python",
   "nbconvert_exporter": "python",
   "pygments_lexer": "ipython3",
   "version": "3.8.8"
  }
 },
 "nbformat": 4,
 "nbformat_minor": 1
}
